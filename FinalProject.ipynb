{
 "cells": [
  {
   "cell_type": "markdown",
   "metadata": {},
   "source": [
    "# COGS 108 - Final Project "
   ]
  },
  {
   "cell_type": "markdown",
   "metadata": {},
   "source": [
    "# Overview"
   ]
  },
  {
   "cell_type": "markdown",
   "metadata": {},
   "source": [
    "Abstract \n",
    "\n",
    "We found this dataset is interesting because of the following reasons:\n",
    "- Kickstarter funding have done by creators and backers, and they are not based on profits consideration for each other; backers do the funding for creators if they think their projects seemed successful or beneficial.\n",
    "- We can observe the data while considering the reasons why one projects went successful on funding but the other did not; There should be some factors having a correlation with successful ones and failed ones. \n",
    "- This dataset has quite a lot of columns that we could make many researches, although we are not going through all of the possible research.\n"
   ]
  },
  {
   "cell_type": "markdown",
   "metadata": {},
   "source": [
    "# Names\n",
    "\n",
    "- Karen Rodriguez Pinto\n",
    "- Enlin Wei\n",
    "- Yumi Minami \n",
    "- Kanami Hannah Tanaka\n",
    "- Alan Willey\n",
    "- Yuxiao Fan"
   ]
  },
  {
   "cell_type": "markdown",
   "metadata": {},
   "source": [
    "# Group Members IDs\n",
    "\n",
    "- A15161856\n",
    "- A12938737\n",
    "- A12669124\n",
    "- A14714448\n",
    "- A15746309\n",
    "- A14778609"
   ]
  },
  {
   "cell_type": "markdown",
   "metadata": {},
   "source": [
    "# Research Question"
   ]
  },
  {
   "cell_type": "markdown",
   "metadata": {},
   "source": [
    "The research questions we proposed were:\n",
    "- Which category/subcategory is the most successful/ the least according to the funding success result? \n",
    "- Which year was the most successful? Is there any causes that one year was superior to another? We would consider some economic impacts as one of the factors.\n",
    "- Which quarter in one year is the most effective or active for funding for each category?\n",
    "- Does the name length affects the funding outcome? \n",
    "\n",
    "\n",
    "-----if a coding member has time, please work on this too---- so Hannah can have many more things to write about.\n",
    "- Is there any correlation between the excessive amount (the amount by usd_pledged minus their own goal) and the year? What about the excessive amount and the category? \n"
   ]
  },
  {
   "cell_type": "markdown",
   "metadata": {},
   "source": [
    "## Background and Prior Work"
   ]
  },
  {
   "cell_type": "markdown",
   "metadata": {},
   "source": [
    "The Kickstarter Website is a crowdfunding platform. Crowdfunding platforms allow users to raise money and typically provide backer rewards or pre-order products. For example a filmmaker may offer a digital copy film, a live viewing of premier, signed posters, etc. A tech company could be offering pre-orders of their new phone cases or other product. Kickstarter does make efforts to ensure you keep your promises to backers and fraud charges could be made if you can't deliver or use funds improperly. Kickstarter is primarily aimed at artists and entrepreneurs. We consider this website is based on the perspectives of all-or-nothing, because the funds from backers to creators cannot be charged unless the project reaches their goals. \n",
    "\n",
    "References (include links):\n",
    "- 1)\n",
    "- 2)"
   ]
  },
  {
   "cell_type": "markdown",
   "metadata": {},
   "source": [
    "# Hypothesis\n"
   ]
  },
  {
   "cell_type": "markdown",
   "metadata": {},
   "source": [
    "    Our hypothesis for this kickstarter dataset is that there were many factors that could involve in making one kickstarter funding project become successful or not, for example, the backers’  own interests towards certain categories, how much value that the project has to put some fundings in from the perspective of backers, how much backers are wealthy at the time when the project created, the occurrence of economic impacts which could have effects on backers’ funding minds, etc. \n",
    "    Specifically speaking, we assumed that the main categories which possibly have strong influences on funding and become successful are ‘music’, ‘film and video’, and ‘publishing’ because those categories are easier to be promoted through funding promotions. Those categories are quite all rounders, which means that are quite inclusive to any age group, gender, or so on. Also, if the producer possibly have followers on their artistic work, it could make easier for them to acquire help for funding. Also, there could not any possible harms which be led from those products to backers, so psychologically speaking, it could be quite easier to be funded for them. Interestingly, we also assumed that the categories that failed easier could be the same categories which we assumed as the successful ones, because their funding is based on backers’ interests and preferences. In order to succeed in funding, the projects have to consider the backers’ popular and public trends; if one project was focused on one specific group of people, then it has a higher chance to fail.\n",
    "    Additionally, the interesting factor that we assumed could have influences is the name length of each project. It is because the longer name could be seen quite professional so that it can be felt pressured to backers. If one project name is too long to read at once and too hard to figure out what the project is, then we hypothesized that it could be hard to be funded form backers. On the other hand, we are not saying ‘the shorter the name is, the better’. The name could be short enough for backers or funders to tell what the project is about, however it has to contain descriptions clear enough as well. \n"
   ]
  },
  {
   "cell_type": "markdown",
   "metadata": {},
   "source": [
    "# Dataset(s)"
   ]
  },
  {
   "cell_type": "markdown",
   "metadata": {},
   "source": [
    "- Dataset Name: Kickstarter Campaigns\n",
    "- Link to the dataset: https://www.kaggle.com/yashkantharia/kickstarter-campaigns\n",
    "- Number of observations: 192548\n",
    "\n",
    "This dataset contains information about Kickstarter crowdfunding campaigns from 2014 to February 2019. The information includes the names, currency, main and subcategories, launch date and deadlines, goal amount of money to raise and actual amounts raised, whether the campaign was successful or failed, and geographical locations of the campaigns (country and state)."
   ]
  },
  {
   "cell_type": "markdown",
   "metadata": {},
   "source": [
    "# Setup"
   ]
  },
  {
   "cell_type": "code",
   "execution_count": 3,
   "metadata": {},
   "outputs": [
    {
     "name": "stderr",
     "output_type": "stream",
     "text": [
      "/opt/conda/lib/python3.6/site-packages/statsmodels/compat/pandas.py:56: FutureWarning: The pandas.core.datetools module is deprecated and will be removed in a future version. Please use the pandas.tseries module instead.\n",
      "  from pandas.core import datetools\n"
     ]
    }
   ],
   "source": [
    "# imports\n",
    "%matplotlib inline\n",
    "\n",
    "import pandas as pd\n",
    "import numpy as np\n",
    "import matplotlib.pyplot as plt\n",
    "import seaborn as sns\n",
    "\n",
    "import patsy\n",
    "import statsmodels.api as sm\n",
    "import scipy.stats as stats\n",
    "from scipy.stats import ttest_ind, chisquare, normaltest\n",
    "\n",
    "import datetime as dt"
   ]
  },
  {
   "cell_type": "code",
   "execution_count": 4,
   "metadata": {},
   "outputs": [],
   "source": [
    "# loads Kickstarters data into dataframe\n",
    "df_kickstarters = pd.read_csv(\"Kickstarter_projects_Feb19.csv\")"
   ]
  },
  {
   "cell_type": "code",
   "execution_count": 5,
   "metadata": {},
   "outputs": [
    {
     "data": {
      "text/html": [
       "<div>\n",
       "<style scoped>\n",
       "    .dataframe tbody tr th:only-of-type {\n",
       "        vertical-align: middle;\n",
       "    }\n",
       "\n",
       "    .dataframe tbody tr th {\n",
       "        vertical-align: top;\n",
       "    }\n",
       "\n",
       "    .dataframe thead th {\n",
       "        text-align: right;\n",
       "    }\n",
       "</style>\n",
       "<table border=\"1\" class=\"dataframe\">\n",
       "  <thead>\n",
       "    <tr style=\"text-align: right;\">\n",
       "      <th></th>\n",
       "      <th>id</th>\n",
       "      <th>name</th>\n",
       "      <th>currency</th>\n",
       "      <th>main_category</th>\n",
       "      <th>sub_category</th>\n",
       "      <th>launched_at</th>\n",
       "      <th>deadline</th>\n",
       "      <th>duration</th>\n",
       "      <th>goal_usd</th>\n",
       "      <th>city</th>\n",
       "      <th>state</th>\n",
       "      <th>country</th>\n",
       "      <th>blurb_length</th>\n",
       "      <th>name_length</th>\n",
       "      <th>status</th>\n",
       "      <th>start_month</th>\n",
       "      <th>end_month</th>\n",
       "      <th>start_Q</th>\n",
       "      <th>end_Q</th>\n",
       "      <th>usd_pledged</th>\n",
       "    </tr>\n",
       "  </thead>\n",
       "  <tbody>\n",
       "    <tr>\n",
       "      <th>0</th>\n",
       "      <td>1687733153</td>\n",
       "      <td>Socks of Speed and Socks of Elvenkind</td>\n",
       "      <td>USD</td>\n",
       "      <td>games</td>\n",
       "      <td>Tabletop Games</td>\n",
       "      <td>2018-10-30 20:00:02</td>\n",
       "      <td>2018-11-15 17:59:00</td>\n",
       "      <td>16.0</td>\n",
       "      <td>2000.00000</td>\n",
       "      <td>Menasha</td>\n",
       "      <td>WI</td>\n",
       "      <td>US</td>\n",
       "      <td>14</td>\n",
       "      <td>7</td>\n",
       "      <td>successful</td>\n",
       "      <td>10</td>\n",
       "      <td>11</td>\n",
       "      <td>Q4</td>\n",
       "      <td>Q4</td>\n",
       "      <td>6061.00000</td>\n",
       "    </tr>\n",
       "    <tr>\n",
       "      <th>1</th>\n",
       "      <td>227936657</td>\n",
       "      <td>Power Punch Boot Camp: An All-Ages Graphic Novel</td>\n",
       "      <td>GBP</td>\n",
       "      <td>comics</td>\n",
       "      <td>Comic Books</td>\n",
       "      <td>2018-08-06 10:00:43</td>\n",
       "      <td>2018-09-05 10:00:43</td>\n",
       "      <td>30.0</td>\n",
       "      <td>3870.99771</td>\n",
       "      <td>Shepperton</td>\n",
       "      <td>England</td>\n",
       "      <td>GB</td>\n",
       "      <td>24</td>\n",
       "      <td>8</td>\n",
       "      <td>successful</td>\n",
       "      <td>8</td>\n",
       "      <td>9</td>\n",
       "      <td>Q3</td>\n",
       "      <td>Q3</td>\n",
       "      <td>3914.50512</td>\n",
       "    </tr>\n",
       "    <tr>\n",
       "      <th>2</th>\n",
       "      <td>454186436</td>\n",
       "      <td>Live Printing with SX8: \"Squeegee Pulp Up\"</td>\n",
       "      <td>USD</td>\n",
       "      <td>fashion</td>\n",
       "      <td>Apparel</td>\n",
       "      <td>2017-06-09 15:41:03</td>\n",
       "      <td>2017-07-09 15:41:03</td>\n",
       "      <td>30.0</td>\n",
       "      <td>1100.00000</td>\n",
       "      <td>Manhattan</td>\n",
       "      <td>NY</td>\n",
       "      <td>US</td>\n",
       "      <td>21</td>\n",
       "      <td>7</td>\n",
       "      <td>successful</td>\n",
       "      <td>6</td>\n",
       "      <td>7</td>\n",
       "      <td>Q2</td>\n",
       "      <td>Q3</td>\n",
       "      <td>1110.00000</td>\n",
       "    </tr>\n",
       "    <tr>\n",
       "      <th>3</th>\n",
       "      <td>629469071</td>\n",
       "      <td>Lost Dog Street Band's Next Album</td>\n",
       "      <td>USD</td>\n",
       "      <td>music</td>\n",
       "      <td>Country &amp; Folk</td>\n",
       "      <td>2014-09-25 18:46:01</td>\n",
       "      <td>2014-11-10 06:00:00</td>\n",
       "      <td>45.0</td>\n",
       "      <td>3500.00000</td>\n",
       "      <td>Nashville</td>\n",
       "      <td>TN</td>\n",
       "      <td>US</td>\n",
       "      <td>15</td>\n",
       "      <td>6</td>\n",
       "      <td>successful</td>\n",
       "      <td>9</td>\n",
       "      <td>11</td>\n",
       "      <td>Q3</td>\n",
       "      <td>Q4</td>\n",
       "      <td>4807.00000</td>\n",
       "    </tr>\n",
       "    <tr>\n",
       "      <th>4</th>\n",
       "      <td>183973060</td>\n",
       "      <td>Qto-X, a Tiny Lantern</td>\n",
       "      <td>USD</td>\n",
       "      <td>technology</td>\n",
       "      <td>Gadgets</td>\n",
       "      <td>2016-11-28 16:35:11</td>\n",
       "      <td>2017-01-27 16:35:11</td>\n",
       "      <td>60.0</td>\n",
       "      <td>30000.00000</td>\n",
       "      <td>Troy</td>\n",
       "      <td>MI</td>\n",
       "      <td>US</td>\n",
       "      <td>15</td>\n",
       "      <td>4</td>\n",
       "      <td>successful</td>\n",
       "      <td>11</td>\n",
       "      <td>1</td>\n",
       "      <td>Q4</td>\n",
       "      <td>Q1</td>\n",
       "      <td>40368.00000</td>\n",
       "    </tr>\n",
       "  </tbody>\n",
       "</table>\n",
       "</div>"
      ],
      "text/plain": [
       "           id                                              name currency  \\\n",
       "0  1687733153             Socks of Speed and Socks of Elvenkind      USD   \n",
       "1   227936657  Power Punch Boot Camp: An All-Ages Graphic Novel      GBP   \n",
       "2   454186436        Live Printing with SX8: \"Squeegee Pulp Up\"      USD   \n",
       "3   629469071                 Lost Dog Street Band's Next Album      USD   \n",
       "4   183973060                             Qto-X, a Tiny Lantern      USD   \n",
       "\n",
       "  main_category    sub_category          launched_at             deadline  \\\n",
       "0         games  Tabletop Games  2018-10-30 20:00:02  2018-11-15 17:59:00   \n",
       "1        comics     Comic Books  2018-08-06 10:00:43  2018-09-05 10:00:43   \n",
       "2       fashion         Apparel  2017-06-09 15:41:03  2017-07-09 15:41:03   \n",
       "3         music  Country & Folk  2014-09-25 18:46:01  2014-11-10 06:00:00   \n",
       "4    technology         Gadgets  2016-11-28 16:35:11  2017-01-27 16:35:11   \n",
       "\n",
       "   duration     goal_usd        city    state country  blurb_length  \\\n",
       "0      16.0   2000.00000     Menasha       WI      US            14   \n",
       "1      30.0   3870.99771  Shepperton  England      GB            24   \n",
       "2      30.0   1100.00000   Manhattan       NY      US            21   \n",
       "3      45.0   3500.00000   Nashville       TN      US            15   \n",
       "4      60.0  30000.00000        Troy       MI      US            15   \n",
       "\n",
       "   name_length      status  start_month  end_month start_Q end_Q  usd_pledged  \n",
       "0            7  successful           10         11      Q4    Q4   6061.00000  \n",
       "1            8  successful            8          9      Q3    Q3   3914.50512  \n",
       "2            7  successful            6          7      Q2    Q3   1110.00000  \n",
       "3            6  successful            9         11      Q3    Q4   4807.00000  \n",
       "4            4  successful           11          1      Q4    Q1  40368.00000  "
      ]
     },
     "execution_count": 5,
     "metadata": {},
     "output_type": "execute_result"
    }
   ],
   "source": [
    "# viewing the first rows of the dataframe\n",
    "df_kickstarters.head()"
   ]
  },
  {
   "cell_type": "markdown",
   "metadata": {},
   "source": [
    "# Data Cleaning"
   ]
  },
  {
   "cell_type": "markdown",
   "metadata": {},
   "source": [
    "Since different countries may provide confounding variables, we decided we will look only at data from the US. We will first take the subset of US-based kickstarters only."
   ]
  },
  {
   "cell_type": "code",
   "execution_count": 6,
   "metadata": {},
   "outputs": [],
   "source": [
    "df_kickstarters = df_kickstarters[df_kickstarters['country']=='US']"
   ]
  },
  {
   "cell_type": "markdown",
   "metadata": {},
   "source": [
    "We checked to see that the country and the currency are both US-only after the drop."
   ]
  },
  {
   "cell_type": "code",
   "execution_count": 7,
   "metadata": {},
   "outputs": [
    {
     "data": {
      "text/plain": [
       "array(['US'], dtype=object)"
      ]
     },
     "execution_count": 7,
     "metadata": {},
     "output_type": "execute_result"
    }
   ],
   "source": [
    "df_kickstarters.country.unique()"
   ]
  },
  {
   "cell_type": "code",
   "execution_count": 8,
   "metadata": {},
   "outputs": [
    {
     "data": {
      "text/plain": [
       "array(['USD'], dtype=object)"
      ]
     },
     "execution_count": 8,
     "metadata": {},
     "output_type": "execute_result"
    }
   ],
   "source": [
    "df_kickstarters.currency.unique()"
   ]
  },
  {
   "cell_type": "markdown",
   "metadata": {},
   "source": [
    "We then checked to see if any cell has null values, and if so to drop those entries."
   ]
  },
  {
   "cell_type": "code",
   "execution_count": 9,
   "metadata": {
    "scrolled": true
   },
   "outputs": [
    {
     "data": {
      "text/html": [
       "<div>\n",
       "<style scoped>\n",
       "    .dataframe tbody tr th:only-of-type {\n",
       "        vertical-align: middle;\n",
       "    }\n",
       "\n",
       "    .dataframe tbody tr th {\n",
       "        vertical-align: top;\n",
       "    }\n",
       "\n",
       "    .dataframe thead th {\n",
       "        text-align: right;\n",
       "    }\n",
       "</style>\n",
       "<table border=\"1\" class=\"dataframe\">\n",
       "  <thead>\n",
       "    <tr style=\"text-align: right;\">\n",
       "      <th></th>\n",
       "      <th>id</th>\n",
       "      <th>name</th>\n",
       "      <th>currency</th>\n",
       "      <th>main_category</th>\n",
       "      <th>sub_category</th>\n",
       "      <th>launched_at</th>\n",
       "      <th>deadline</th>\n",
       "      <th>duration</th>\n",
       "      <th>goal_usd</th>\n",
       "      <th>city</th>\n",
       "      <th>state</th>\n",
       "      <th>country</th>\n",
       "      <th>blurb_length</th>\n",
       "      <th>name_length</th>\n",
       "      <th>status</th>\n",
       "      <th>start_month</th>\n",
       "      <th>end_month</th>\n",
       "      <th>start_Q</th>\n",
       "      <th>end_Q</th>\n",
       "      <th>usd_pledged</th>\n",
       "    </tr>\n",
       "  </thead>\n",
       "  <tbody>\n",
       "  </tbody>\n",
       "</table>\n",
       "</div>"
      ],
      "text/plain": [
       "Empty DataFrame\n",
       "Columns: [id, name, currency, main_category, sub_category, launched_at, deadline, duration, goal_usd, city, state, country, blurb_length, name_length, status, start_month, end_month, start_Q, end_Q, usd_pledged]\n",
       "Index: []"
      ]
     },
     "execution_count": 9,
     "metadata": {},
     "output_type": "execute_result"
    }
   ],
   "source": [
    "df_kickstarters[df_kickstarters.isnull().any(axis=1)]"
   ]
  },
  {
   "cell_type": "markdown",
   "metadata": {},
   "source": [
    "We found no null values in the dataset, and so we proceeded with data cleaning."
   ]
  },
  {
   "cell_type": "markdown",
   "metadata": {},
   "source": [
    "We first dropped the column 'id' since it gives no useful information, just an ID associated with the project. We then dropped columns 'start_month' and 'end_month' since the information about the start and end months of the projects are already given in the dates in the 'launched_at' and 'deadline' columns and so is redundant. We checked to see that the country and currency are all US-based, so it would not be necessary to keep those columns."
   ]
  },
  {
   "cell_type": "code",
   "execution_count": 10,
   "metadata": {},
   "outputs": [],
   "source": [
    "df_kickstarters.drop(columns=['id', 'start_month', 'end_month', 'country', 'currency'], inplace=True)"
   ]
  },
  {
   "cell_type": "markdown",
   "metadata": {},
   "source": [
    "We then noticed that the **launched_at** and **deadline** columns contained dates and times of when the projects were launched and ended in string format. It would be easier to work with datetime objects, so we replaced the strings with datetime objects."
   ]
  },
  {
   "cell_type": "code",
   "execution_count": 11,
   "metadata": {},
   "outputs": [],
   "source": [
    "# method to convert datetime strings in 'df_kickstarters' into datetime objects\n",
    "def to_datetime(datetime_str):\n",
    "    return dt.datetime.strptime(datetime_str, '%Y-%m-%d %H:%M:%S')"
   ]
  },
  {
   "cell_type": "code",
   "execution_count": 12,
   "metadata": {},
   "outputs": [],
   "source": [
    "# converts all datetime strings in df to datetime objects\n",
    "df_kickstarters['launched_at'] = df_kickstarters['launched_at'].apply(to_datetime)\n",
    "df_kickstarters['deadline'] = df_kickstarters['deadline'].apply(to_datetime)"
   ]
  },
  {
   "cell_type": "markdown",
   "metadata": {},
   "source": [
    "Finally, we noticed some of the monetary amounts have more than 2 decimal places, which should be cleaned up since we don't work with monetary amounts more specific than 2 decimal places. So we decided to round the amounts to 2 decimal places."
   ]
  },
  {
   "cell_type": "code",
   "execution_count": 13,
   "metadata": {},
   "outputs": [],
   "source": [
    "df_kickstarters['goal_usd'] = df_kickstarters['goal_usd'].round(2)\n",
    "df_kickstarters['usd_pledged'] = df_kickstarters['usd_pledged'].round(2)"
   ]
  },
  {
   "cell_type": "markdown",
   "metadata": {},
   "source": [
    "# Data Analysis & Results"
   ]
  },
  {
   "cell_type": "markdown",
   "metadata": {},
   "source": [
    "Since our project aims to analyze which factor is most important for the success of kickstarters, we will divide the dataframe into two separate ones, one with all the successful projects and one with all the failed projects."
   ]
  },
  {
   "cell_type": "code",
   "execution_count": 14,
   "metadata": {},
   "outputs": [],
   "source": [
    "# divides df_kickstarters into successful and failed ones\n",
    "df_successful = df_kickstarters[df_kickstarters['status']=='successful']\n",
    "df_failed = df_kickstarters[df_kickstarters['status']=='failed']"
   ]
  },
  {
   "cell_type": "code",
   "execution_count": 15,
   "metadata": {
    "scrolled": true
   },
   "outputs": [
    {
     "name": "stdout",
     "output_type": "stream",
     "text": [
      "Number of successful kickstarters: 85473\n",
      "Number of failed kickstarters: 52372\n"
     ]
    }
   ],
   "source": [
    "# views number of successful and failed kickstarters\n",
    "print(\"Number of successful kickstarters: \" + str(len(df_successful))); print(\"Number of failed kickstarters: \" + str(len(df_failed)))"
   ]
  },
  {
   "cell_type": "markdown",
   "metadata": {},
   "source": [
    "It seems that there are different numbers of successful and failed kickstarters; we will account for that by comparing the ratio of each category in the successful versus failed kickstarters."
   ]
  },
  {
   "cell_type": "code",
   "execution_count": 16,
   "metadata": {
    "scrolled": true
   },
   "outputs": [
    {
     "data": {
      "text/plain": [
       "\"\\nf = plt.figure();\\ndf2 = df.groupby([ 'lecture_attendance','gender'])['lecture_attendance'].count().unstack('gender').fillna(0)\\nsub_df2 = np.transpose(df2.div(df2.sum()))\\nsub_df2.plot(kind='bar', stacked=True, rot=0)\\n\""
      ]
     },
     "execution_count": 16,
     "metadata": {},
     "output_type": "execute_result"
    },
    {
     "data": {
      "image/png": "[encoded data removed]",
      "text/plain": [
       "<Figure size 1440x360 with 1 Axes>"
      ]
     },
     "metadata": {
      "needs_background": "light"
     },
     "output_type": "display_data"
    }
   ],
   "source": [
    "df_categories = df_kickstarters.groupby(['status','main_category'])['status'].count().unstack('main_category').fillna(0)\n",
    "sub_df_categories = np.transpose(df_categories.div(df_categories.sum()))\n",
    "sub_df_categories.plot(kind='bar',stacked=True,rot=0,figsize=(20,5))\n",
    "\n",
    "plt.legend(('failed','successful'), loc='center left', bbox_to_anchor=(1.0, 0.5))\n",
    "\n",
    "\"\"\"\n",
    "f = plt.figure();\n",
    "df2 = df.groupby([ 'lecture_attendance','gender'])['lecture_attendance'].count().unstack('gender').fillna(0)\n",
    "sub_df2 = np.transpose(df2.div(df2.sum()))\n",
    "sub_df2.plot(kind='bar', stacked=True, rot=0)\n",
    "\"\"\""
   ]
  },
  {
   "cell_type": "code",
   "execution_count": 17,
   "metadata": {
    "scrolled": true
   },
   "outputs": [
    {
     "data": {
      "text/html": [
       "<div>\n",
       "<style scoped>\n",
       "    .dataframe tbody tr th:only-of-type {\n",
       "        vertical-align: middle;\n",
       "    }\n",
       "\n",
       "    .dataframe tbody tr th {\n",
       "        vertical-align: top;\n",
       "    }\n",
       "\n",
       "    .dataframe thead th {\n",
       "        text-align: right;\n",
       "    }\n",
       "</style>\n",
       "<table border=\"1\" class=\"dataframe\">\n",
       "  <thead>\n",
       "    <tr style=\"text-align: right;\">\n",
       "      <th></th>\n",
       "      <th>name</th>\n",
       "      <th>main_category</th>\n",
       "      <th>sub_category</th>\n",
       "      <th>launched_at</th>\n",
       "      <th>deadline</th>\n",
       "      <th>duration</th>\n",
       "      <th>goal_usd</th>\n",
       "      <th>city</th>\n",
       "      <th>state</th>\n",
       "      <th>blurb_length</th>\n",
       "      <th>name_length</th>\n",
       "      <th>status</th>\n",
       "      <th>start_Q</th>\n",
       "      <th>end_Q</th>\n",
       "      <th>usd_pledged</th>\n",
       "    </tr>\n",
       "  </thead>\n",
       "  <tbody>\n",
       "    <tr>\n",
       "      <th>0</th>\n",
       "      <td>Socks of Speed and Socks of Elvenkind</td>\n",
       "      <td>games</td>\n",
       "      <td>Tabletop Games</td>\n",
       "      <td>2018-10-30 20:00:02</td>\n",
       "      <td>2018-11-15 17:59:00</td>\n",
       "      <td>16.0</td>\n",
       "      <td>2000.0</td>\n",
       "      <td>Menasha</td>\n",
       "      <td>WI</td>\n",
       "      <td>14</td>\n",
       "      <td>7</td>\n",
       "      <td>successful</td>\n",
       "      <td>Q4</td>\n",
       "      <td>Q4</td>\n",
       "      <td>6061.0</td>\n",
       "    </tr>\n",
       "    <tr>\n",
       "      <th>2</th>\n",
       "      <td>Live Printing with SX8: \"Squeegee Pulp Up\"</td>\n",
       "      <td>fashion</td>\n",
       "      <td>Apparel</td>\n",
       "      <td>2017-06-09 15:41:03</td>\n",
       "      <td>2017-07-09 15:41:03</td>\n",
       "      <td>30.0</td>\n",
       "      <td>1100.0</td>\n",
       "      <td>Manhattan</td>\n",
       "      <td>NY</td>\n",
       "      <td>21</td>\n",
       "      <td>7</td>\n",
       "      <td>successful</td>\n",
       "      <td>Q2</td>\n",
       "      <td>Q3</td>\n",
       "      <td>1110.0</td>\n",
       "    </tr>\n",
       "    <tr>\n",
       "      <th>3</th>\n",
       "      <td>Lost Dog Street Band's Next Album</td>\n",
       "      <td>music</td>\n",
       "      <td>Country &amp; Folk</td>\n",
       "      <td>2014-09-25 18:46:01</td>\n",
       "      <td>2014-11-10 06:00:00</td>\n",
       "      <td>45.0</td>\n",
       "      <td>3500.0</td>\n",
       "      <td>Nashville</td>\n",
       "      <td>TN</td>\n",
       "      <td>15</td>\n",
       "      <td>6</td>\n",
       "      <td>successful</td>\n",
       "      <td>Q3</td>\n",
       "      <td>Q4</td>\n",
       "      <td>4807.0</td>\n",
       "    </tr>\n",
       "    <tr>\n",
       "      <th>4</th>\n",
       "      <td>Qto-X, a Tiny Lantern</td>\n",
       "      <td>technology</td>\n",
       "      <td>Gadgets</td>\n",
       "      <td>2016-11-28 16:35:11</td>\n",
       "      <td>2017-01-27 16:35:11</td>\n",
       "      <td>60.0</td>\n",
       "      <td>30000.0</td>\n",
       "      <td>Troy</td>\n",
       "      <td>MI</td>\n",
       "      <td>15</td>\n",
       "      <td>4</td>\n",
       "      <td>successful</td>\n",
       "      <td>Q4</td>\n",
       "      <td>Q1</td>\n",
       "      <td>40368.0</td>\n",
       "    </tr>\n",
       "    <tr>\n",
       "      <th>5</th>\n",
       "      <td>Aaron McDonnell EP \"Follow\"</td>\n",
       "      <td>music</td>\n",
       "      <td>Country &amp; Folk</td>\n",
       "      <td>2014-01-22 18:21:37</td>\n",
       "      <td>2014-02-21 18:21:37</td>\n",
       "      <td>30.0</td>\n",
       "      <td>7500.0</td>\n",
       "      <td>Seattle</td>\n",
       "      <td>WA</td>\n",
       "      <td>11</td>\n",
       "      <td>4</td>\n",
       "      <td>successful</td>\n",
       "      <td>Q1</td>\n",
       "      <td>Q1</td>\n",
       "      <td>7770.0</td>\n",
       "    </tr>\n",
       "  </tbody>\n",
       "</table>\n",
       "</div>"
      ],
      "text/plain": [
       "                                         name main_category    sub_category  \\\n",
       "0       Socks of Speed and Socks of Elvenkind         games  Tabletop Games   \n",
       "2  Live Printing with SX8: \"Squeegee Pulp Up\"       fashion         Apparel   \n",
       "3           Lost Dog Street Band's Next Album         music  Country & Folk   \n",
       "4                       Qto-X, a Tiny Lantern    technology         Gadgets   \n",
       "5                 Aaron McDonnell EP \"Follow\"         music  Country & Folk   \n",
       "\n",
       "          launched_at            deadline  duration  goal_usd       city  \\\n",
       "0 2018-10-30 20:00:02 2018-11-15 17:59:00      16.0    2000.0    Menasha   \n",
       "2 2017-06-09 15:41:03 2017-07-09 15:41:03      30.0    1100.0  Manhattan   \n",
       "3 2014-09-25 18:46:01 2014-11-10 06:00:00      45.0    3500.0  Nashville   \n",
       "4 2016-11-28 16:35:11 2017-01-27 16:35:11      60.0   30000.0       Troy   \n",
       "5 2014-01-22 18:21:37 2014-02-21 18:21:37      30.0    7500.0    Seattle   \n",
       "\n",
       "  state  blurb_length  name_length      status start_Q end_Q  usd_pledged  \n",
       "0    WI            14            7  successful      Q4    Q4       6061.0  \n",
       "2    NY            21            7  successful      Q2    Q3       1110.0  \n",
       "3    TN            15            6  successful      Q3    Q4       4807.0  \n",
       "4    MI            15            4  successful      Q4    Q1      40368.0  \n",
       "5    WA            11            4  successful      Q1    Q1       7770.0  "
      ]
     },
     "execution_count": 17,
     "metadata": {},
     "output_type": "execute_result"
    }
   ],
   "source": [
    "# views first rows of df_kickstarters\n",
    "df_kickstarters.head()"
   ]
  },
  {
   "cell_type": "code",
   "execution_count": 18,
   "metadata": {
    "scrolled": true
   },
   "outputs": [
    {
     "data": {
      "text/plain": [
       "<matplotlib.axes._subplots.AxesSubplot at 0x7f721f1f8898>"
      ]
     },
     "execution_count": 18,
     "metadata": {},
     "output_type": "execute_result"
    },
    {
     "data": {
      "image/png": "[encoded data removed]",
      "text/plain": [
       "<Figure size 1440x576 with 1 Axes>"
      ]
     },
     "metadata": {
      "needs_background": "light"
     },
     "output_type": "display_data"
    }
   ],
   "source": [
    "plt.figure(figsize=(20,8))\n",
    "sns.countplot(x='main_category',hue='status',data=df_kickstarters)"
   ]
  },
  {
   "cell_type": "code",
   "execution_count": 19,
   "metadata": {},
   "outputs": [
    {
     "data": {
      "text/plain": [
       "<matplotlib.axes._subplots.AxesSubplot at 0x7f721eff1c18>"
      ]
     },
     "execution_count": 19,
     "metadata": {},
     "output_type": "execute_result"
    },
    {
     "data": {
      "image/png": "[encoded data removed]",
      "text/plain": [
       "<Figure size 1440x576 with 1 Axes>"
      ]
     },
     "metadata": {
      "needs_background": "light"
     },
     "output_type": "display_data"
    }
   ],
   "source": [
    "plt.figure(figsize=(20,8))\n",
    "sns.countplot(x='main_category',data=df_kickstarters)"
   ]
  },
  {
   "cell_type": "code",
   "execution_count": 20,
   "metadata": {
    "scrolled": true
   },
   "outputs": [],
   "source": [
    "outcome,predictors = patsy.dmatrices('status ~ main_category',df_kickstarters)\n",
    "mod = sm.OLS(outcome,predictors)\n",
    "res = mod.fit()"
   ]
  },
  {
   "cell_type": "code",
   "execution_count": 21,
   "metadata": {},
   "outputs": [],
   "source": [
    "# this is throwing a \"not aligned\" error\n",
    "# res.summary()"
   ]
  },
  {
   "cell_type": "code",
   "execution_count": 22,
   "metadata": {
    "scrolled": true
   },
   "outputs": [
    {
     "data": {
      "text/plain": [
       "<matplotlib.axes._subplots.AxesSubplot at 0x7f721f1a1518>"
      ]
     },
     "execution_count": 22,
     "metadata": {},
     "output_type": "execute_result"
    },
    {
     "data": {
      "image/png": "[encoded data removed]",
      "text/plain": [
       "<Figure size 432x288 with 1 Axes>"
      ]
     },
     "metadata": {
      "needs_background": "light"
     },
     "output_type": "display_data"
    }
   ],
   "source": [
    "df_kickstarters.boxplot(column=['duration'],by='status',showfliers=False)"
   ]
  },
  {
   "cell_type": "code",
   "execution_count": 23,
   "metadata": {
    "scrolled": true
   },
   "outputs": [
    {
     "data": {
      "text/plain": [
       "<matplotlib.axes._subplots.AxesSubplot at 0x7f721ef1ec50>"
      ]
     },
     "execution_count": 23,
     "metadata": {},
     "output_type": "execute_result"
    },
    {
     "data": {
      "image/png": "[encoded data removed]",
      "text/plain": [
       "<Figure size 432x288 with 1 Axes>"
      ]
     },
     "metadata": {
      "needs_background": "light"
     },
     "output_type": "display_data"
    }
   ],
   "source": [
    "# plots histogram of column 'main category' of successful projects\n",
    "df_successful['main_category'].value_counts().plot(kind='bar')"
   ]
  },
  {
   "cell_type": "code",
   "execution_count": 24,
   "metadata": {
    "scrolled": false
   },
   "outputs": [
    {
     "data": {
      "text/plain": [
       "<matplotlib.axes._subplots.AxesSubplot at 0x7f721ef09048>"
      ]
     },
     "execution_count": 24,
     "metadata": {},
     "output_type": "execute_result"
    },
    {
     "data": {
      "image/png": "[encoded data removed]",
      "text/plain": [
       "<Figure size 432x288 with 1 Axes>"
      ]
     },
     "metadata": {
      "needs_background": "light"
     },
     "output_type": "display_data"
    }
   ],
   "source": [
    "# plots histogram of column 'main category' of failed projects\n",
    "df_failed['main_category'].value_counts().plot(kind='bar')"
   ]
  },
  {
   "cell_type": "code",
   "execution_count": 25,
   "metadata": {},
   "outputs": [
    {
     "data": {
      "text/plain": [
       "Ttest_indResult(statistic=-57.827366693442421, pvalue=0.0)"
      ]
     },
     "execution_count": 25,
     "metadata": {},
     "output_type": "execute_result"
    }
   ],
   "source": [
    "ttest_ind(df_successful['duration'],df_failed['duration'])"
   ]
  },
  {
   "cell_type": "code",
   "execution_count": 26,
   "metadata": {},
   "outputs": [
    {
     "data": {
      "text/plain": [
       "NormaltestResult(statistic=17320.316404308724, pvalue=0.0)"
      ]
     },
     "execution_count": 26,
     "metadata": {},
     "output_type": "execute_result"
    }
   ],
   "source": [
    "normaltest(df_successful['duration'])"
   ]
  },
  {
   "cell_type": "code",
   "execution_count": 27,
   "metadata": {},
   "outputs": [
    {
     "data": {
      "text/plain": [
       "NormaltestResult(statistic=5619.8577867300173, pvalue=0.0)"
      ]
     },
     "execution_count": 27,
     "metadata": {},
     "output_type": "execute_result"
    }
   ],
   "source": [
    "normaltest(df_failed['duration'])"
   ]
  },
  {
   "cell_type": "code",
   "execution_count": 28,
   "metadata": {},
   "outputs": [
    {
     "data": {
      "text/plain": [
       "<matplotlib.axes._subplots.AxesSubplot at 0x7f721edcd1d0>"
      ]
     },
     "execution_count": 28,
     "metadata": {},
     "output_type": "execute_result"
    },
    {
     "data": {
      "image/png": "[encoded data removed]",
      "text/plain": [
       "<Figure size 432x288 with 1 Axes>"
      ]
     },
     "metadata": {
      "needs_background": "light"
     },
     "output_type": "display_data"
    }
   ],
   "source": [
    "df_successful['duration'].hist(bins=25)"
   ]
  },
  {
   "cell_type": "code",
   "execution_count": 29,
   "metadata": {},
   "outputs": [
    {
     "data": {
      "text/plain": [
       "<matplotlib.axes._subplots.AxesSubplot at 0x7f721ed3f080>"
      ]
     },
     "execution_count": 29,
     "metadata": {},
     "output_type": "execute_result"
    },
    {
     "data": {
      "image/png": "[encoded data removed]",
      "text/plain": [
       "<Figure size 432x288 with 1 Axes>"
      ]
     },
     "metadata": {
      "needs_background": "light"
     },
     "output_type": "display_data"
    }
   ],
   "source": [
    "df_failed['duration'].hist(bins=25)"
   ]
  },
  {
   "cell_type": "code",
   "execution_count": 30,
   "metadata": {},
   "outputs": [],
   "source": [
    "## YOUR CODE HERE\n",
    "## FEEL FREE TO ADD MULTIPLE CELLS PER SECTION"
   ]
  },
  {
   "cell_type": "markdown",
   "metadata": {},
   "source": [
    "# Ethics & Privacy"
   ]
  },
  {
   "cell_type": "markdown",
   "metadata": {},
   "source": [
    "Hannah is going to work on this part and done by 8th of June so dont worry"
   ]
  },
  {
   "cell_type": "markdown",
   "metadata": {},
   "source": [
    "# Conclusion & Discussion"
   ]
  },
  {
   "cell_type": "markdown",
   "metadata": {},
   "source": [
    "*Fill in your discussion information here*"
   ]
  }
 ],
 "metadata": {
  "kernelspec": {
   "display_name": "Python 3",
   "language": "python",
   "name": "python3"
  },
  "language_info": {
   "codemirror_mode": {
    "name": "ipython",
    "version": 3
   },
   "file_extension": ".py",
   "mimetype": "text/x-python",
   "name": "python",
   "nbconvert_exporter": "python",
   "pygments_lexer": "ipython3",
   "version": "3.6.7"
  }
 },
 "nbformat": 4,
 "nbformat_minor": 2
}
