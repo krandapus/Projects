{
 "cells": [
  {
   "cell_type": "markdown",
   "metadata": {},
   "source": [
    "# COGS 108 - Final Project "
   ]
  },
  {
   "cell_type": "markdown",
   "metadata": {},
   "source": [
    "# Overview"
   ]
  },
  {
   "cell_type": "markdown",
   "metadata": {},
   "source": [
    "kickstarter website\n",
    "- what is it? when is it established by who? how do people utiilize it?\n",
    "- what helps for/ what is it helpful to our life?\n",
    "- why we chose this"
   ]
  },
  {
   "cell_type": "markdown",
   "metadata": {},
   "source": [
    "# Names\n",
    "\n",
    "- Karen Rodriguez Pinto\n",
    "- Enlin Wei\n",
    "- Yumi Minami \n",
    "- Kanami Hannah Tanaka"
   ]
  },
  {
   "cell_type": "markdown",
   "metadata": {},
   "source": [
    "# Group Members IDs\n",
    "\n",
    "- A15161856\n",
    "- A12938737\n",
    "- A12669124\n",
    "- A14714448"
   ]
  },
  {
   "cell_type": "markdown",
   "metadata": {},
   "source": [
    "# Research Question"
   ]
  },
  {
   "cell_type": "markdown",
   "metadata": {},
   "source": [
    "successful vs failed funding; which factor correlates the most to the funding result?\n",
    "\n",
    "which category is the most successful\n",
    "which category is the least successful\n",
    "is the bigger city, the better at funding?\n",
    "\n",
    "which year was the most successful? -> we can talk abouut why this yera was the most successful; economic impact\n",
    "\n",
    "the correlation between the excessive amount (like usd_pledged minus their own goal) and \n",
    "\n",
    "which quarter is the most effctive or active for funding for each category?\n",
    "\n",
    "does the name length affect to the funding outcome? \n"
   ]
  },
  {
   "cell_type": "markdown",
   "metadata": {},
   "source": [
    "*Fill in your research question here*"
   ]
  },
  {
   "cell_type": "markdown",
   "metadata": {},
   "source": [
    "## Background and Prior Work"
   ]
  },
  {
   "cell_type": "markdown",
   "metadata": {},
   "source": [
    "*Fill in your background and prior work here* \n",
    "\n",
    "References (include links):\n",
    "- 1)\n",
    "- 2)"
   ]
  },
  {
   "cell_type": "markdown",
   "metadata": {},
   "source": [
    "# Hypothesis\n"
   ]
  },
  {
   "cell_type": "markdown",
   "metadata": {},
   "source": [
    "music and films are famous for any age ranges, generations, and gender\n"
   ]
  },
  {
   "cell_type": "markdown",
   "metadata": {},
   "source": [
    "*Fill in your hypotheses here*"
   ]
  },
  {
   "cell_type": "markdown",
   "metadata": {},
   "source": [
    "# Dataset(s)"
   ]
  },
  {
   "cell_type": "markdown",
   "metadata": {},
   "source": [
    "- Dataset Name: Kickstarter Campaigns\n",
    "- Link to the dataset: https://www.kaggle.com/yashkantharia/kickstarter-campaigns\n",
    "- Number of observations: 192548\n",
    "\n",
    "This dataset contains information about Kickstarter crowdfunding campaigns from 2014 to February 2019. The information includes the names, currency, main and subcategories, launch date and deadlines, goal amount of money to raise and actual amounts raised, whether the campaign was successful or failed, and geographical locations of the campaigns (country and state)."
   ]
  },
  {
   "cell_type": "markdown",
   "metadata": {},
   "source": [
    "# Setup"
   ]
  },
  {
   "cell_type": "code",
   "execution_count": 1,
   "metadata": {},
   "outputs": [],
   "source": [
    "# imports\n",
    "%matplotlib inline\n",
    "\n",
    "import pandas as pd\n",
    "import numpy as np\n",
    "import matplotlib.pyplot as plt\n",
    "\n",
    "import patsy\n",
    "import statsmodels.api as sm\n",
    "import scipy.stats as stats\n",
    "from scipy.stats import ttest_ind, chisquare, normaltest\n",
    "\n",
    "import datetime as dt"
   ]
  },
  {
   "cell_type": "code",
   "execution_count": 2,
   "metadata": {},
   "outputs": [],
   "source": [
    "# loads Kickstarters data into dataframe\n",
    "df_kickstarters = pd.read_csv(\"Kickstarter_projects_Feb19.csv\")"
   ]
  },
  {
   "cell_type": "code",
   "execution_count": 3,
   "metadata": {},
   "outputs": [
    {
     "data": {
      "text/html": [
       "<div>\n",
       "<style scoped>\n",
       "    .dataframe tbody tr th:only-of-type {\n",
       "        vertical-align: middle;\n",
       "    }\n",
       "\n",
       "    .dataframe tbody tr th {\n",
       "        vertical-align: top;\n",
       "    }\n",
       "\n",
       "    .dataframe thead th {\n",
       "        text-align: right;\n",
       "    }\n",
       "</style>\n",
       "<table border=\"1\" class=\"dataframe\">\n",
       "  <thead>\n",
       "    <tr style=\"text-align: right;\">\n",
       "      <th></th>\n",
       "      <th>id</th>\n",
       "      <th>name</th>\n",
       "      <th>currency</th>\n",
       "      <th>main_category</th>\n",
       "      <th>sub_category</th>\n",
       "      <th>launched_at</th>\n",
       "      <th>deadline</th>\n",
       "      <th>duration</th>\n",
       "      <th>goal_usd</th>\n",
       "      <th>city</th>\n",
       "      <th>state</th>\n",
       "      <th>country</th>\n",
       "      <th>blurb_length</th>\n",
       "      <th>name_length</th>\n",
       "      <th>status</th>\n",
       "      <th>start_month</th>\n",
       "      <th>end_month</th>\n",
       "      <th>start_Q</th>\n",
       "      <th>end_Q</th>\n",
       "      <th>usd_pledged</th>\n",
       "    </tr>\n",
       "  </thead>\n",
       "  <tbody>\n",
       "    <tr>\n",
       "      <th>0</th>\n",
       "      <td>1687733153</td>\n",
       "      <td>Socks of Speed and Socks of Elvenkind</td>\n",
       "      <td>USD</td>\n",
       "      <td>games</td>\n",
       "      <td>Tabletop Games</td>\n",
       "      <td>2018-10-30 20:00:02</td>\n",
       "      <td>2018-11-15 17:59:00</td>\n",
       "      <td>16.0</td>\n",
       "      <td>2000.00000</td>\n",
       "      <td>Menasha</td>\n",
       "      <td>WI</td>\n",
       "      <td>US</td>\n",
       "      <td>14</td>\n",
       "      <td>7</td>\n",
       "      <td>successful</td>\n",
       "      <td>10</td>\n",
       "      <td>11</td>\n",
       "      <td>Q4</td>\n",
       "      <td>Q4</td>\n",
       "      <td>6061.00000</td>\n",
       "    </tr>\n",
       "    <tr>\n",
       "      <th>1</th>\n",
       "      <td>227936657</td>\n",
       "      <td>Power Punch Boot Camp: An All-Ages Graphic Novel</td>\n",
       "      <td>GBP</td>\n",
       "      <td>comics</td>\n",
       "      <td>Comic Books</td>\n",
       "      <td>2018-08-06 10:00:43</td>\n",
       "      <td>2018-09-05 10:00:43</td>\n",
       "      <td>30.0</td>\n",
       "      <td>3870.99771</td>\n",
       "      <td>Shepperton</td>\n",
       "      <td>England</td>\n",
       "      <td>GB</td>\n",
       "      <td>24</td>\n",
       "      <td>8</td>\n",
       "      <td>successful</td>\n",
       "      <td>8</td>\n",
       "      <td>9</td>\n",
       "      <td>Q3</td>\n",
       "      <td>Q3</td>\n",
       "      <td>3914.50512</td>\n",
       "    </tr>\n",
       "    <tr>\n",
       "      <th>2</th>\n",
       "      <td>454186436</td>\n",
       "      <td>Live Printing with SX8: \"Squeegee Pulp Up\"</td>\n",
       "      <td>USD</td>\n",
       "      <td>fashion</td>\n",
       "      <td>Apparel</td>\n",
       "      <td>2017-06-09 15:41:03</td>\n",
       "      <td>2017-07-09 15:41:03</td>\n",
       "      <td>30.0</td>\n",
       "      <td>1100.00000</td>\n",
       "      <td>Manhattan</td>\n",
       "      <td>NY</td>\n",
       "      <td>US</td>\n",
       "      <td>21</td>\n",
       "      <td>7</td>\n",
       "      <td>successful</td>\n",
       "      <td>6</td>\n",
       "      <td>7</td>\n",
       "      <td>Q2</td>\n",
       "      <td>Q3</td>\n",
       "      <td>1110.00000</td>\n",
       "    </tr>\n",
       "    <tr>\n",
       "      <th>3</th>\n",
       "      <td>629469071</td>\n",
       "      <td>Lost Dog Street Band's Next Album</td>\n",
       "      <td>USD</td>\n",
       "      <td>music</td>\n",
       "      <td>Country &amp; Folk</td>\n",
       "      <td>2014-09-25 18:46:01</td>\n",
       "      <td>2014-11-10 06:00:00</td>\n",
       "      <td>45.0</td>\n",
       "      <td>3500.00000</td>\n",
       "      <td>Nashville</td>\n",
       "      <td>TN</td>\n",
       "      <td>US</td>\n",
       "      <td>15</td>\n",
       "      <td>6</td>\n",
       "      <td>successful</td>\n",
       "      <td>9</td>\n",
       "      <td>11</td>\n",
       "      <td>Q3</td>\n",
       "      <td>Q4</td>\n",
       "      <td>4807.00000</td>\n",
       "    </tr>\n",
       "    <tr>\n",
       "      <th>4</th>\n",
       "      <td>183973060</td>\n",
       "      <td>Qto-X, a Tiny Lantern</td>\n",
       "      <td>USD</td>\n",
       "      <td>technology</td>\n",
       "      <td>Gadgets</td>\n",
       "      <td>2016-11-28 16:35:11</td>\n",
       "      <td>2017-01-27 16:35:11</td>\n",
       "      <td>60.0</td>\n",
       "      <td>30000.00000</td>\n",
       "      <td>Troy</td>\n",
       "      <td>MI</td>\n",
       "      <td>US</td>\n",
       "      <td>15</td>\n",
       "      <td>4</td>\n",
       "      <td>successful</td>\n",
       "      <td>11</td>\n",
       "      <td>1</td>\n",
       "      <td>Q4</td>\n",
       "      <td>Q1</td>\n",
       "      <td>40368.00000</td>\n",
       "    </tr>\n",
       "  </tbody>\n",
       "</table>\n",
       "</div>"
      ],
      "text/plain": [
       "           id                                              name currency  \\\n",
       "0  1687733153             Socks of Speed and Socks of Elvenkind      USD   \n",
       "1   227936657  Power Punch Boot Camp: An All-Ages Graphic Novel      GBP   \n",
       "2   454186436        Live Printing with SX8: \"Squeegee Pulp Up\"      USD   \n",
       "3   629469071                 Lost Dog Street Band's Next Album      USD   \n",
       "4   183973060                             Qto-X, a Tiny Lantern      USD   \n",
       "\n",
       "  main_category    sub_category          launched_at             deadline  \\\n",
       "0         games  Tabletop Games  2018-10-30 20:00:02  2018-11-15 17:59:00   \n",
       "1        comics     Comic Books  2018-08-06 10:00:43  2018-09-05 10:00:43   \n",
       "2       fashion         Apparel  2017-06-09 15:41:03  2017-07-09 15:41:03   \n",
       "3         music  Country & Folk  2014-09-25 18:46:01  2014-11-10 06:00:00   \n",
       "4    technology         Gadgets  2016-11-28 16:35:11  2017-01-27 16:35:11   \n",
       "\n",
       "   duration     goal_usd        city    state country  blurb_length  \\\n",
       "0      16.0   2000.00000     Menasha       WI      US            14   \n",
       "1      30.0   3870.99771  Shepperton  England      GB            24   \n",
       "2      30.0   1100.00000   Manhattan       NY      US            21   \n",
       "3      45.0   3500.00000   Nashville       TN      US            15   \n",
       "4      60.0  30000.00000        Troy       MI      US            15   \n",
       "\n",
       "   name_length      status  start_month  end_month start_Q end_Q  usd_pledged  \n",
       "0            7  successful           10         11      Q4    Q4   6061.00000  \n",
       "1            8  successful            8          9      Q3    Q3   3914.50512  \n",
       "2            7  successful            6          7      Q2    Q3   1110.00000  \n",
       "3            6  successful            9         11      Q3    Q4   4807.00000  \n",
       "4            4  successful           11          1      Q4    Q1  40368.00000  "
      ]
     },
     "execution_count": 3,
     "metadata": {},
     "output_type": "execute_result"
    }
   ],
   "source": [
    "# viewing the first rows of the dataframe\n",
    "df_kickstarters.head()"
   ]
  },
  {
   "cell_type": "markdown",
   "metadata": {},
   "source": [
    "# Data Cleaning"
   ]
  },
  {
   "cell_type": "markdown",
   "metadata": {},
   "source": [
    "We first checked to see if any cell has null values, and if so to drop those entries."
   ]
  },
  {
   "cell_type": "code",
   "execution_count": 4,
   "metadata": {
    "scrolled": true
   },
   "outputs": [
    {
     "data": {
      "text/html": [
       "<div>\n",
       "<style scoped>\n",
       "    .dataframe tbody tr th:only-of-type {\n",
       "        vertical-align: middle;\n",
       "    }\n",
       "\n",
       "    .dataframe tbody tr th {\n",
       "        vertical-align: top;\n",
       "    }\n",
       "\n",
       "    .dataframe thead th {\n",
       "        text-align: right;\n",
       "    }\n",
       "</style>\n",
       "<table border=\"1\" class=\"dataframe\">\n",
       "  <thead>\n",
       "    <tr style=\"text-align: right;\">\n",
       "      <th></th>\n",
       "      <th>id</th>\n",
       "      <th>name</th>\n",
       "      <th>currency</th>\n",
       "      <th>main_category</th>\n",
       "      <th>sub_category</th>\n",
       "      <th>launched_at</th>\n",
       "      <th>deadline</th>\n",
       "      <th>duration</th>\n",
       "      <th>goal_usd</th>\n",
       "      <th>city</th>\n",
       "      <th>state</th>\n",
       "      <th>country</th>\n",
       "      <th>blurb_length</th>\n",
       "      <th>name_length</th>\n",
       "      <th>status</th>\n",
       "      <th>start_month</th>\n",
       "      <th>end_month</th>\n",
       "      <th>start_Q</th>\n",
       "      <th>end_Q</th>\n",
       "      <th>usd_pledged</th>\n",
       "    </tr>\n",
       "  </thead>\n",
       "  <tbody>\n",
       "  </tbody>\n",
       "</table>\n",
       "</div>"
      ],
      "text/plain": [
       "Empty DataFrame\n",
       "Columns: [id, name, currency, main_category, sub_category, launched_at, deadline, duration, goal_usd, city, state, country, blurb_length, name_length, status, start_month, end_month, start_Q, end_Q, usd_pledged]\n",
       "Index: []"
      ]
     },
     "execution_count": 4,
     "metadata": {},
     "output_type": "execute_result"
    }
   ],
   "source": [
    "df_kickstarters[df_kickstarters.isnull().any(axis=1)]"
   ]
  },
  {
   "cell_type": "markdown",
   "metadata": {},
   "source": [
    "We found no null values in the dataset, and so we proceeded with data cleaning."
   ]
  },
  {
   "cell_type": "markdown",
   "metadata": {},
   "source": [
    "We first dropped the column 'id' since it gives no useful information, just an ID associated with the project. We then dropped columns 'start_month' and 'end_month' since the information about the start and end months of the projects are already given in the dates in the 'launched_at' and 'deadline' columns and so is redundant."
   ]
  },
  {
   "cell_type": "code",
   "execution_count": 5,
   "metadata": {},
   "outputs": [],
   "source": [
    "df_kickstarters.drop(columns=['id', 'start_month', 'end_month'], inplace=True)"
   ]
  },
  {
   "cell_type": "markdown",
   "metadata": {},
   "source": [
    "We then noticed that the **launched_at** and **deadline** columns contained dates and times of when the projects were launched and ended in string format. It would be easier to work with datetime objects, so we replaced the strings with datetime objects."
   ]
  },
  {
   "cell_type": "code",
   "execution_count": 6,
   "metadata": {},
   "outputs": [],
   "source": [
    "# method to convert datetime strings in 'df_kickstarters' into datetime objects\n",
    "def to_datetime(datetime_str):\n",
    "    return dt.datetime.strptime(datetime_str, '%Y-%m-%d %H:%M:%S')"
   ]
  },
  {
   "cell_type": "code",
   "execution_count": 7,
   "metadata": {},
   "outputs": [],
   "source": [
    "# converts all datetime strings in df to datetime objects\n",
    "df_kickstarters['launched_at'] = df_kickstarters['launched_at'].apply(to_datetime)\n",
    "df_kickstarters['deadline'] = df_kickstarters['deadline'].apply(to_datetime)"
   ]
  },
  {
   "cell_type": "markdown",
   "metadata": {},
   "source": [
    "Finally, we noticed some of the monetary amounts have more than 2 decimal places, which should be cleaned up since we don't work with monetary amounts more specific than 2 decimal places. So we decided to round the amounts to 2 decimal places."
   ]
  },
  {
   "cell_type": "code",
   "execution_count": 8,
   "metadata": {},
   "outputs": [],
   "source": [
    "df_kickstarters['goal_usd'] = df_kickstarters['goal_usd'].round(2)\n",
    "df_kickstarters['usd_pledged'] = df_kickstarters['usd_pledged'].round(2)"
   ]
  },
  {
   "cell_type": "markdown",
   "metadata": {},
   "source": [
    "# Data Analysis & Results"
   ]
  },
  {
   "cell_type": "markdown",
   "metadata": {},
   "source": [
    "Since our project aims to analyze which factor is most important for the success of kickstarters, we will divide the dataframe into two separate ones, one with all the successful projects and one with all the failed projects."
   ]
  },
  {
   "cell_type": "code",
   "execution_count": 9,
   "metadata": {},
   "outputs": [],
   "source": [
    "# divides df_kickstarters into successful and failed ones\n",
    "df_successful = df_kickstarters[df_kickstarters['status']=='successful']\n",
    "df_failed = df_kickstarters[df_kickstarters['status']=='failed']"
   ]
  },
  {
   "cell_type": "code",
   "execution_count": 10,
   "metadata": {},
   "outputs": [
    {
     "name": "stdout",
     "output_type": "stream",
     "text": [
      "Number of successful kickstarters: 117307\n",
      "Number of failed kickstarters: 75241\n"
     ]
    }
   ],
   "source": [
    "# views number of successful and failed kickstarters\n",
    "print(\"Number of successful kickstarters: \" + str(len(df_successful))); print(\"Number of failed kickstarters: \" + str(len(df_failed)))"
   ]
  },
  {
   "cell_type": "code",
   "execution_count": 11,
   "metadata": {
    "scrolled": true
   },
   "outputs": [
    {
     "data": {
      "text/html": [
       "<div>\n",
       "<style scoped>\n",
       "    .dataframe tbody tr th:only-of-type {\n",
       "        vertical-align: middle;\n",
       "    }\n",
       "\n",
       "    .dataframe tbody tr th {\n",
       "        vertical-align: top;\n",
       "    }\n",
       "\n",
       "    .dataframe thead th {\n",
       "        text-align: right;\n",
       "    }\n",
       "</style>\n",
       "<table border=\"1\" class=\"dataframe\">\n",
       "  <thead>\n",
       "    <tr style=\"text-align: right;\">\n",
       "      <th></th>\n",
       "      <th>name</th>\n",
       "      <th>currency</th>\n",
       "      <th>main_category</th>\n",
       "      <th>sub_category</th>\n",
       "      <th>launched_at</th>\n",
       "      <th>deadline</th>\n",
       "      <th>duration</th>\n",
       "      <th>goal_usd</th>\n",
       "      <th>city</th>\n",
       "      <th>state</th>\n",
       "      <th>country</th>\n",
       "      <th>blurb_length</th>\n",
       "      <th>name_length</th>\n",
       "      <th>status</th>\n",
       "      <th>start_Q</th>\n",
       "      <th>end_Q</th>\n",
       "      <th>usd_pledged</th>\n",
       "    </tr>\n",
       "  </thead>\n",
       "  <tbody>\n",
       "    <tr>\n",
       "      <th>0</th>\n",
       "      <td>Socks of Speed and Socks of Elvenkind</td>\n",
       "      <td>USD</td>\n",
       "      <td>games</td>\n",
       "      <td>Tabletop Games</td>\n",
       "      <td>2018-10-30 20:00:02</td>\n",
       "      <td>2018-11-15 17:59:00</td>\n",
       "      <td>16.0</td>\n",
       "      <td>2000.0</td>\n",
       "      <td>Menasha</td>\n",
       "      <td>WI</td>\n",
       "      <td>US</td>\n",
       "      <td>14</td>\n",
       "      <td>7</td>\n",
       "      <td>successful</td>\n",
       "      <td>Q4</td>\n",
       "      <td>Q4</td>\n",
       "      <td>6061.00</td>\n",
       "    </tr>\n",
       "    <tr>\n",
       "      <th>1</th>\n",
       "      <td>Power Punch Boot Camp: An All-Ages Graphic Novel</td>\n",
       "      <td>GBP</td>\n",
       "      <td>comics</td>\n",
       "      <td>Comic Books</td>\n",
       "      <td>2018-08-06 10:00:43</td>\n",
       "      <td>2018-09-05 10:00:43</td>\n",
       "      <td>30.0</td>\n",
       "      <td>3871.0</td>\n",
       "      <td>Shepperton</td>\n",
       "      <td>England</td>\n",
       "      <td>GB</td>\n",
       "      <td>24</td>\n",
       "      <td>8</td>\n",
       "      <td>successful</td>\n",
       "      <td>Q3</td>\n",
       "      <td>Q3</td>\n",
       "      <td>3914.51</td>\n",
       "    </tr>\n",
       "    <tr>\n",
       "      <th>2</th>\n",
       "      <td>Live Printing with SX8: \"Squeegee Pulp Up\"</td>\n",
       "      <td>USD</td>\n",
       "      <td>fashion</td>\n",
       "      <td>Apparel</td>\n",
       "      <td>2017-06-09 15:41:03</td>\n",
       "      <td>2017-07-09 15:41:03</td>\n",
       "      <td>30.0</td>\n",
       "      <td>1100.0</td>\n",
       "      <td>Manhattan</td>\n",
       "      <td>NY</td>\n",
       "      <td>US</td>\n",
       "      <td>21</td>\n",
       "      <td>7</td>\n",
       "      <td>successful</td>\n",
       "      <td>Q2</td>\n",
       "      <td>Q3</td>\n",
       "      <td>1110.00</td>\n",
       "    </tr>\n",
       "    <tr>\n",
       "      <th>3</th>\n",
       "      <td>Lost Dog Street Band's Next Album</td>\n",
       "      <td>USD</td>\n",
       "      <td>music</td>\n",
       "      <td>Country &amp; Folk</td>\n",
       "      <td>2014-09-25 18:46:01</td>\n",
       "      <td>2014-11-10 06:00:00</td>\n",
       "      <td>45.0</td>\n",
       "      <td>3500.0</td>\n",
       "      <td>Nashville</td>\n",
       "      <td>TN</td>\n",
       "      <td>US</td>\n",
       "      <td>15</td>\n",
       "      <td>6</td>\n",
       "      <td>successful</td>\n",
       "      <td>Q3</td>\n",
       "      <td>Q4</td>\n",
       "      <td>4807.00</td>\n",
       "    </tr>\n",
       "    <tr>\n",
       "      <th>4</th>\n",
       "      <td>Qto-X, a Tiny Lantern</td>\n",
       "      <td>USD</td>\n",
       "      <td>technology</td>\n",
       "      <td>Gadgets</td>\n",
       "      <td>2016-11-28 16:35:11</td>\n",
       "      <td>2017-01-27 16:35:11</td>\n",
       "      <td>60.0</td>\n",
       "      <td>30000.0</td>\n",
       "      <td>Troy</td>\n",
       "      <td>MI</td>\n",
       "      <td>US</td>\n",
       "      <td>15</td>\n",
       "      <td>4</td>\n",
       "      <td>successful</td>\n",
       "      <td>Q4</td>\n",
       "      <td>Q1</td>\n",
       "      <td>40368.00</td>\n",
       "    </tr>\n",
       "  </tbody>\n",
       "</table>\n",
       "</div>"
      ],
      "text/plain": [
       "                                               name currency main_category  \\\n",
       "0             Socks of Speed and Socks of Elvenkind      USD         games   \n",
       "1  Power Punch Boot Camp: An All-Ages Graphic Novel      GBP        comics   \n",
       "2        Live Printing with SX8: \"Squeegee Pulp Up\"      USD       fashion   \n",
       "3                 Lost Dog Street Band's Next Album      USD         music   \n",
       "4                             Qto-X, a Tiny Lantern      USD    technology   \n",
       "\n",
       "     sub_category         launched_at            deadline  duration  goal_usd  \\\n",
       "0  Tabletop Games 2018-10-30 20:00:02 2018-11-15 17:59:00      16.0    2000.0   \n",
       "1     Comic Books 2018-08-06 10:00:43 2018-09-05 10:00:43      30.0    3871.0   \n",
       "2         Apparel 2017-06-09 15:41:03 2017-07-09 15:41:03      30.0    1100.0   \n",
       "3  Country & Folk 2014-09-25 18:46:01 2014-11-10 06:00:00      45.0    3500.0   \n",
       "4         Gadgets 2016-11-28 16:35:11 2017-01-27 16:35:11      60.0   30000.0   \n",
       "\n",
       "         city    state country  blurb_length  name_length      status start_Q  \\\n",
       "0     Menasha       WI      US            14            7  successful      Q4   \n",
       "1  Shepperton  England      GB            24            8  successful      Q3   \n",
       "2   Manhattan       NY      US            21            7  successful      Q2   \n",
       "3   Nashville       TN      US            15            6  successful      Q3   \n",
       "4        Troy       MI      US            15            4  successful      Q4   \n",
       "\n",
       "  end_Q  usd_pledged  \n",
       "0    Q4      6061.00  \n",
       "1    Q3      3914.51  \n",
       "2    Q3      1110.00  \n",
       "3    Q4      4807.00  \n",
       "4    Q1     40368.00  "
      ]
     },
     "execution_count": 11,
     "metadata": {},
     "output_type": "execute_result"
    }
   ],
   "source": [
    "# views first rows of df_kickstarters\n",
    "df_kickstarters.head()"
   ]
  },
  {
   "cell_type": "code",
   "execution_count": 12,
   "metadata": {},
   "outputs": [
    {
     "ename": "ValueError",
     "evalue": "shapes (192548,2) and (192548,2) not aligned: 2 (dim 1) != 192548 (dim 0)",
     "output_type": "error",
     "traceback": [
      "\u001b[1;31m---------------------------------------------------------------------------\u001b[0m",
      "\u001b[1;31mValueError\u001b[0m                                Traceback (most recent call last)",
      "\u001b[1;32m<ipython-input-12-7eeb2df7f950>\u001b[0m in \u001b[0;36m<module>\u001b[1;34m\u001b[0m\n\u001b[0;32m      2\u001b[0m \u001b[0mmod\u001b[0m \u001b[1;33m=\u001b[0m \u001b[0msm\u001b[0m\u001b[1;33m.\u001b[0m\u001b[0mOLS\u001b[0m\u001b[1;33m(\u001b[0m\u001b[0moutcome\u001b[0m\u001b[1;33m,\u001b[0m\u001b[0mpredictors\u001b[0m\u001b[1;33m)\u001b[0m\u001b[1;33m\u001b[0m\u001b[1;33m\u001b[0m\u001b[0m\n\u001b[0;32m      3\u001b[0m \u001b[0mres\u001b[0m \u001b[1;33m=\u001b[0m \u001b[0mmod\u001b[0m\u001b[1;33m.\u001b[0m\u001b[0mfit\u001b[0m\u001b[1;33m(\u001b[0m\u001b[1;33m)\u001b[0m\u001b[1;33m\u001b[0m\u001b[1;33m\u001b[0m\u001b[0m\n\u001b[1;32m----> 4\u001b[1;33m \u001b[0mprint\u001b[0m\u001b[1;33m(\u001b[0m\u001b[0mres\u001b[0m\u001b[1;33m.\u001b[0m\u001b[0msummary\u001b[0m\u001b[1;33m(\u001b[0m\u001b[1;33m)\u001b[0m\u001b[1;33m)\u001b[0m\u001b[1;33m\u001b[0m\u001b[1;33m\u001b[0m\u001b[0m\n\u001b[0m",
      "\u001b[1;32m~\\Anaconda3\\lib\\site-packages\\statsmodels\\regression\\linear_model.py\u001b[0m in \u001b[0;36msummary\u001b[1;34m(self, yname, xname, title, alpha)\u001b[0m\n\u001b[0;32m   2374\u001b[0m             \u001b[0mtop_left\u001b[0m\u001b[1;33m.\u001b[0m\u001b[0mappend\u001b[0m\u001b[1;33m(\u001b[0m\u001b[1;33m(\u001b[0m\u001b[1;34m'Covariance Type:'\u001b[0m\u001b[1;33m,\u001b[0m \u001b[1;33m[\u001b[0m\u001b[0mself\u001b[0m\u001b[1;33m.\u001b[0m\u001b[0mcov_type\u001b[0m\u001b[1;33m]\u001b[0m\u001b[1;33m)\u001b[0m\u001b[1;33m)\u001b[0m\u001b[1;33m\u001b[0m\u001b[1;33m\u001b[0m\u001b[0m\n\u001b[0;32m   2375\u001b[0m \u001b[1;33m\u001b[0m\u001b[0m\n\u001b[1;32m-> 2376\u001b[1;33m         top_right = [('R-squared:', [\"%#8.3f\" % self.rsquared]),\n\u001b[0m\u001b[0;32m   2377\u001b[0m                      \u001b[1;33m(\u001b[0m\u001b[1;34m'Adj. R-squared:'\u001b[0m\u001b[1;33m,\u001b[0m \u001b[1;33m[\u001b[0m\u001b[1;34m\"%#8.3f\"\u001b[0m \u001b[1;33m%\u001b[0m \u001b[0mself\u001b[0m\u001b[1;33m.\u001b[0m\u001b[0mrsquared_adj\u001b[0m\u001b[1;33m]\u001b[0m\u001b[1;33m)\u001b[0m\u001b[1;33m,\u001b[0m\u001b[1;33m\u001b[0m\u001b[1;33m\u001b[0m\u001b[0m\n\u001b[0;32m   2378\u001b[0m                      \u001b[1;33m(\u001b[0m\u001b[1;34m'F-statistic:'\u001b[0m\u001b[1;33m,\u001b[0m \u001b[1;33m[\u001b[0m\u001b[1;34m\"%#8.4g\"\u001b[0m \u001b[1;33m%\u001b[0m \u001b[0mself\u001b[0m\u001b[1;33m.\u001b[0m\u001b[0mfvalue\u001b[0m\u001b[1;33m]\u001b[0m\u001b[1;33m)\u001b[0m\u001b[1;33m,\u001b[0m\u001b[1;33m\u001b[0m\u001b[1;33m\u001b[0m\u001b[0m\n",
      "\u001b[1;32m~\\Anaconda3\\lib\\site-packages\\statsmodels\\tools\\decorators.py\u001b[0m in \u001b[0;36m__get__\u001b[1;34m(self, obj, type)\u001b[0m\n\u001b[0;32m     95\u001b[0m         \u001b[1;32mif\u001b[0m \u001b[0m_cachedval\u001b[0m \u001b[1;32mis\u001b[0m \u001b[1;32mNone\u001b[0m\u001b[1;33m:\u001b[0m\u001b[1;33m\u001b[0m\u001b[1;33m\u001b[0m\u001b[0m\n\u001b[0;32m     96\u001b[0m             \u001b[1;31m# Call the \"fget\" function\u001b[0m\u001b[1;33m\u001b[0m\u001b[1;33m\u001b[0m\u001b[1;33m\u001b[0m\u001b[0m\n\u001b[1;32m---> 97\u001b[1;33m             \u001b[0m_cachedval\u001b[0m \u001b[1;33m=\u001b[0m \u001b[0mself\u001b[0m\u001b[1;33m.\u001b[0m\u001b[0mfget\u001b[0m\u001b[1;33m(\u001b[0m\u001b[0mobj\u001b[0m\u001b[1;33m)\u001b[0m\u001b[1;33m\u001b[0m\u001b[1;33m\u001b[0m\u001b[0m\n\u001b[0m\u001b[0;32m     98\u001b[0m             \u001b[1;31m# Set the attribute in obj\u001b[0m\u001b[1;33m\u001b[0m\u001b[1;33m\u001b[0m\u001b[1;33m\u001b[0m\u001b[0m\n\u001b[0;32m     99\u001b[0m             \u001b[1;31m# print(\"Setting %s in cache to %s\" % (name, _cachedval))\u001b[0m\u001b[1;33m\u001b[0m\u001b[1;33m\u001b[0m\u001b[1;33m\u001b[0m\u001b[0m\n",
      "\u001b[1;32m~\\Anaconda3\\lib\\site-packages\\statsmodels\\regression\\linear_model.py\u001b[0m in \u001b[0;36mrsquared\u001b[1;34m(self)\u001b[0m\n\u001b[0;32m   1541\u001b[0m     \u001b[1;32mdef\u001b[0m \u001b[0mrsquared\u001b[0m\u001b[1;33m(\u001b[0m\u001b[0mself\u001b[0m\u001b[1;33m)\u001b[0m\u001b[1;33m:\u001b[0m\u001b[1;33m\u001b[0m\u001b[1;33m\u001b[0m\u001b[0m\n\u001b[0;32m   1542\u001b[0m         \u001b[1;32mif\u001b[0m \u001b[0mself\u001b[0m\u001b[1;33m.\u001b[0m\u001b[0mk_constant\u001b[0m\u001b[1;33m:\u001b[0m\u001b[1;33m\u001b[0m\u001b[1;33m\u001b[0m\u001b[0m\n\u001b[1;32m-> 1543\u001b[1;33m             \u001b[1;32mreturn\u001b[0m \u001b[1;36m1\u001b[0m \u001b[1;33m-\u001b[0m \u001b[0mself\u001b[0m\u001b[1;33m.\u001b[0m\u001b[0mssr\u001b[0m\u001b[1;33m/\u001b[0m\u001b[0mself\u001b[0m\u001b[1;33m.\u001b[0m\u001b[0mcentered_tss\u001b[0m\u001b[1;33m\u001b[0m\u001b[1;33m\u001b[0m\u001b[0m\n\u001b[0m\u001b[0;32m   1544\u001b[0m         \u001b[1;32melse\u001b[0m\u001b[1;33m:\u001b[0m\u001b[1;33m\u001b[0m\u001b[1;33m\u001b[0m\u001b[0m\n\u001b[0;32m   1545\u001b[0m             \u001b[1;32mreturn\u001b[0m \u001b[1;36m1\u001b[0m \u001b[1;33m-\u001b[0m \u001b[0mself\u001b[0m\u001b[1;33m.\u001b[0m\u001b[0mssr\u001b[0m\u001b[1;33m/\u001b[0m\u001b[0mself\u001b[0m\u001b[1;33m.\u001b[0m\u001b[0muncentered_tss\u001b[0m\u001b[1;33m\u001b[0m\u001b[1;33m\u001b[0m\u001b[0m\n",
      "\u001b[1;32m~\\Anaconda3\\lib\\site-packages\\statsmodels\\tools\\decorators.py\u001b[0m in \u001b[0;36m__get__\u001b[1;34m(self, obj, type)\u001b[0m\n\u001b[0;32m     95\u001b[0m         \u001b[1;32mif\u001b[0m \u001b[0m_cachedval\u001b[0m \u001b[1;32mis\u001b[0m \u001b[1;32mNone\u001b[0m\u001b[1;33m:\u001b[0m\u001b[1;33m\u001b[0m\u001b[1;33m\u001b[0m\u001b[0m\n\u001b[0;32m     96\u001b[0m             \u001b[1;31m# Call the \"fget\" function\u001b[0m\u001b[1;33m\u001b[0m\u001b[1;33m\u001b[0m\u001b[1;33m\u001b[0m\u001b[0m\n\u001b[1;32m---> 97\u001b[1;33m             \u001b[0m_cachedval\u001b[0m \u001b[1;33m=\u001b[0m \u001b[0mself\u001b[0m\u001b[1;33m.\u001b[0m\u001b[0mfget\u001b[0m\u001b[1;33m(\u001b[0m\u001b[0mobj\u001b[0m\u001b[1;33m)\u001b[0m\u001b[1;33m\u001b[0m\u001b[1;33m\u001b[0m\u001b[0m\n\u001b[0m\u001b[0;32m     98\u001b[0m             \u001b[1;31m# Set the attribute in obj\u001b[0m\u001b[1;33m\u001b[0m\u001b[1;33m\u001b[0m\u001b[1;33m\u001b[0m\u001b[0m\n\u001b[0;32m     99\u001b[0m             \u001b[1;31m# print(\"Setting %s in cache to %s\" % (name, _cachedval))\u001b[0m\u001b[1;33m\u001b[0m\u001b[1;33m\u001b[0m\u001b[1;33m\u001b[0m\u001b[0m\n",
      "\u001b[1;32m~\\Anaconda3\\lib\\site-packages\\statsmodels\\regression\\linear_model.py\u001b[0m in \u001b[0;36mssr\u001b[1;34m(self)\u001b[0m\n\u001b[0;32m   1513\u001b[0m     \u001b[1;32mdef\u001b[0m \u001b[0mssr\u001b[0m\u001b[1;33m(\u001b[0m\u001b[0mself\u001b[0m\u001b[1;33m)\u001b[0m\u001b[1;33m:\u001b[0m\u001b[1;33m\u001b[0m\u001b[1;33m\u001b[0m\u001b[0m\n\u001b[0;32m   1514\u001b[0m         \u001b[0mwresid\u001b[0m \u001b[1;33m=\u001b[0m \u001b[0mself\u001b[0m\u001b[1;33m.\u001b[0m\u001b[0mwresid\u001b[0m\u001b[1;33m\u001b[0m\u001b[1;33m\u001b[0m\u001b[0m\n\u001b[1;32m-> 1515\u001b[1;33m         \u001b[1;32mreturn\u001b[0m \u001b[0mnp\u001b[0m\u001b[1;33m.\u001b[0m\u001b[0mdot\u001b[0m\u001b[1;33m(\u001b[0m\u001b[0mwresid\u001b[0m\u001b[1;33m,\u001b[0m \u001b[0mwresid\u001b[0m\u001b[1;33m)\u001b[0m\u001b[1;33m\u001b[0m\u001b[1;33m\u001b[0m\u001b[0m\n\u001b[0m\u001b[0;32m   1516\u001b[0m \u001b[1;33m\u001b[0m\u001b[0m\n\u001b[0;32m   1517\u001b[0m     \u001b[1;33m@\u001b[0m\u001b[0mcache_readonly\u001b[0m\u001b[1;33m\u001b[0m\u001b[1;33m\u001b[0m\u001b[0m\n",
      "\u001b[1;31mValueError\u001b[0m: shapes (192548,2) and (192548,2) not aligned: 2 (dim 1) != 192548 (dim 0)"
     ]
    }
   ],
   "source": [
    "outcome,predictors = patsy.dmatrices('status ~ main_category',df_kickstarters)\n",
    "mod = sm.OLS(outcome,predictors)\n",
    "res = mod.fit()\n",
    "print(res.summary())"
   ]
  },
  {
   "cell_type": "code",
   "execution_count": null,
   "metadata": {
    "scrolled": true
   },
   "outputs": [],
   "source": [
    "ttest_ind(df_successful['duration'],df_failed['duration'])"
   ]
  },
  {
   "cell_type": "code",
   "execution_count": null,
   "metadata": {
    "scrolled": true
   },
   "outputs": [],
   "source": [
    "df_kickstarters.boxplot(column=['duration'],by='status',showfliers=False)"
   ]
  },
  {
   "cell_type": "code",
   "execution_count": null,
   "metadata": {
    "scrolled": true
   },
   "outputs": [],
   "source": [
    "# plots histogram of column 'main category' of successful projects\n",
    "df_successful['main_category'].value_counts().plot(kind='bar')"
   ]
  },
  {
   "cell_type": "code",
   "execution_count": null,
   "metadata": {
    "scrolled": true
   },
   "outputs": [],
   "source": [
    "# plots histogram of column 'main category' of failed projects\n",
    "df_failed['main_category'].value_counts().plot(kind='bar')"
   ]
  },
  {
   "cell_type": "code",
   "execution_count": null,
   "metadata": {},
   "outputs": [],
   "source": [
    "## YOUR CODE HERE\n",
    "## FEEL FREE TO ADD MULTIPLE CELLS PER SECTION"
   ]
  },
  {
   "cell_type": "markdown",
   "metadata": {},
   "source": [
    "# Ethics & Privacy"
   ]
  },
  {
   "cell_type": "markdown",
   "metadata": {},
   "source": [
    "*Fill in your ethics & privacy discussion here*"
   ]
  },
  {
   "cell_type": "markdown",
   "metadata": {},
   "source": [
    "# Conclusion & Discussion"
   ]
  },
  {
   "cell_type": "markdown",
   "metadata": {},
   "source": [
    "*Fill in your discussion information here*"
   ]
  }
 ],
 "metadata": {
  "kernelspec": {
   "display_name": "Python 3",
   "language": "python",
   "name": "python3"
  },
  "language_info": {
   "codemirror_mode": {
    "name": "ipython",
    "version": 3
   },
   "file_extension": ".py",
   "mimetype": "text/x-python",
   "name": "python",
   "nbconvert_exporter": "python",
   "pygments_lexer": "ipython3",
   "version": "3.7.3"
  }
 },
 "nbformat": 4,
 "nbformat_minor": 2
}
