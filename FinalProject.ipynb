{
 "cells": [
  {
   "cell_type": "markdown",
   "metadata": {},
   "source": [
    "# Overview"
   ]
  },
  {
   "cell_type": "markdown",
   "metadata": {},
   "source": [
    "For our final project, we performed a predictive analysis on data from Kickstarter to see which factors are more correlated with status of a Kickstarter project (successful or failed, which is defined whether they raised the goal amount of funding) and see if we can extraploate those correlations to predict which Kickstarter projects are more likely to be successful.\n",
    "\n",
    "Through this final project, we would like to see how some samples which we took out from kickstarter dataset are determined to turn out as successful or failed projects. By looking at each main and sub categories that have sorted for each project and comparing to each category, it could give some ideas to us if there are any correlations between outcome/ funding which one could get and the categories. We would also like to figure out if there are any correlations between outcome and the year in which the project was established/ created; not only analyzing the outcome year by year, but also we looked quarter by quarter as well. Additionally we considered that the name length could have influences on the outcome, interestingly, therefore, we are going to analyze all of these factors that possibly contribute to one project and regulate if it would be carried out as successful or not."
   ]
  },
  {
   "cell_type": "markdown",
   "metadata": {},
   "source": [
    "# Names\n",
    "\n",
    "- Alan Lloyd Willey\n",
    "- Enlin Wei\n",
    "- Kanami Hannah Tanaka\n",
    "- Karen Rodriguez Pinto\n",
    "- Yumi Minami\n",
    "- Yuxiao Fan"
   ]
  },
  {
   "cell_type": "markdown",
   "metadata": {},
   "source": [
    "# Group Members IDs\n",
    "\n",
    "- A15746309\n",
    "- A12669124\n",
    "- A14714448\n",
    "- A15161856\n",
    "- A12938737\n",
    "- A14778609"
   ]
  },
  {
   "cell_type": "markdown",
   "metadata": {},
   "source": [
    "# Research Question"
   ]
  },
  {
   "cell_type": "markdown",
   "metadata": {},
   "source": [
    "We are conducting this research to investigate what could be most predictive of a Kickstarter project's outcome, so the research question we wanted to ask for this project was \"Among the US-based Kickstarters, which factor (within the information given in the dataset) contributes most to a Kickstarter's outcome?\"\n"
   ]
  },
  {
   "cell_type": "markdown",
   "metadata": {},
   "source": [
    "## Background and Prior Work"
   ]
  },
  {
   "cell_type": "markdown",
   "metadata": {},
   "source": [
    "Before we introduce Kickstarter, we will take a look at crowdfunding platforms, which is what Kickstarter is. Basically, crowdfunding platforms allow those with innovative projects to pitch those projects to the public with a goal of a certain amount of money to raise; and if people like that idea and would like to support it, they can donate funds to help\n",
    "\n",
    "A crowdfunding platforms like Kickstarter allows users to raise money and typically provide backer rewards or pre-order products. For example a filmmaker may offer a digital copy film, a live viewing of premier, signed posters, etc. A tech company could be offering pre-orders of their new phone cases or other product.\n",
    "\n",
    "Kickstarter is a crowdfunding platform which was created by Perry Chen and Yancy Strickler in 2009, to be a place where the main focus is not Kickstarter's profit but success for those who pitch their projects. If a project raises enough money to meet its goal, it will receive those funds, and Kickstarter makes money from a 3-5% fee taken from the funds. Kickstarter does make efforts to ensure you keep your promises to backers and fraud charges could be made if you can't deliver or use funds improperly. Because funds from backers to creators cannot be charged unless the project reaches their goals, we consider this website is based on the perspectives of all-or-nothing.\n",
    "\n",
    "References (include links):\n",
    "- 1) \"Kickstarter crowdfunding site officially launches in Canada\". The Canadian Press. 10 September 2013. Retrieved 8 June 2019. https://www.cbc.ca/news/business/kickstarter-crowdfunding-site-officially-launches-in-canada-1.1703774\n",
    "- 2) Isaac, Mike and David Gelles (September 21, 2015). \"Kickstarter Focuses Its Mission on Altruism Over Profit\". The New York Times. https://www.nytimes.com/2015/09/21/technology/kickstarters-altruistic-vision-profits-as-the-means-not-the-mission.html"
   ]
  },
  {
   "cell_type": "markdown",
   "metadata": {},
   "source": [
    "# Hypothesis\n"
   ]
  },
  {
   "cell_type": "markdown",
   "metadata": {},
   "source": [
    "Our hypothesis for this kickstarter dataset is that there were many factors that could involve in making one kickstarter funding project become successful or not, for example, the backers’  own interests towards certain categories, how much value that the project has to put some fundings in from the perspective of backers, how much backers are wealthy at the time when the project created, the occurrence of economic impacts which could have effects on backers’ funding minds, etc.\n",
    "\n",
    "Specifically speaking, we assumed that the main categories which possibly have strong influences on funding and become successful are ‘music’, ‘film and video’, and ‘publishing’ because those categories are easier to be promoted through funding promotions. Those categories are quite all rounders, which means that are quite inclusive to any age group, gender, or so on. Also, if the producer possibly have followers on their artistic work, it could make easier for them to acquire help for funding. Also, there could not any possible harms which be led from those products to backers, so psychologically speaking, it could be quite easier to be funded for them. Interestingly, we also assumed that the categories that failed easier could be the same categories which we assumed as the successful ones, because their funding is based on backers’ interests and preferences. In order to succeed in funding, the projects have to consider the backers’ popular and public trends; if one project was focused on one specific group of people, then it has a higher chance to fail.\n",
    "\n",
    "Additionally, the interesting factor that we assumed could have influences is the name length of each project. It is because the longer name could be seen quite professional so that it can be felt pressured to backers. If one project name is too long to read at once and too hard to figure out what the project is, then we hypothesized that it could be hard to be funded form backers. On the other hand, we are not saying ‘the shorter the name is, the better’. The name could be short enough for backers or funders to tell what the project is about, however it has to contain descriptions clear enough as well."
   ]
  },
  {
   "cell_type": "markdown",
   "metadata": {},
   "source": [
    "# Dataset(s)"
   ]
  },
  {
   "cell_type": "markdown",
   "metadata": {},
   "source": [
    "- Dataset Name: Kickstarter Campaigns\n",
    "- Link to the dataset: https://www.kaggle.com/yashkantharia/kickstarter-campaigns\n",
    "- Number of observations: 192548\n",
    "\n",
    "This dataset contains information about Kickstarter crowdfunding campaigns from 2014 to February 2019. The information includes the names, currency, main and subcategories, launch date and deadlines, goal amount of money to raise and actual amounts raised, whether the campaign was successful or failed, and geographical locations of the campaigns (country and state).\n",
    "\n",
    "We found this dataset is interesting because of the following reasons:\n",
    "- Kickstarter funding have done by creators and backers, and they are not based on profits consideration for each other; backers do the funding for creators if they think their projects seemed successful or beneficial.\n",
    "- We can observe the data while considering the reasons why one projects went successful on funding but the other did not; There should be some factors having a correlation with successful ones and failed ones. \n",
    "- This dataset has quite a lot of columns that we could make many researches, although we are not going through all of the possible research."
   ]
  },
  {
   "cell_type": "markdown",
   "metadata": {},
   "source": [
    "# Setup"
   ]
  },
  {
   "cell_type": "code",
   "execution_count": 1,
   "metadata": {},
   "outputs": [],
   "source": [
    "# imports\n",
    "%matplotlib inline\n",
    "\n",
    "import pandas as pd\n",
    "import numpy as np\n",
    "import matplotlib.pyplot as plt\n",
    "import seaborn as sns\n",
    "\n",
    "import patsy\n",
    "import statsmodels.api as sm\n",
    "import scipy.stats as stats\n",
    "from scipy.stats import ttest_ind, chisquare, normaltest\n",
    "\n",
    "from sklearn.linear_model import LogisticRegression\n",
    "from sklearn.model_selection import train_test_split\n",
    "sns.set(style=\"white\")\n",
    "sns.set(style=\"whitegrid\", color_codes=True)"
   ]
  },
  {
   "cell_type": "code",
   "execution_count": 2,
   "metadata": {},
   "outputs": [],
   "source": [
    "# loads Kickstarters data into dataframe\n",
    "df_kickstarters = pd.read_csv(\"Kickstarter_projects_Feb19.csv\")"
   ]
  },
  {
   "cell_type": "code",
   "execution_count": 3,
   "metadata": {},
   "outputs": [
    {
     "data": {
      "text/html": [
       "<div>\n",
       "<style scoped>\n",
       "    .dataframe tbody tr th:only-of-type {\n",
       "        vertical-align: middle;\n",
       "    }\n",
       "\n",
       "    .dataframe tbody tr th {\n",
       "        vertical-align: top;\n",
       "    }\n",
       "\n",
       "    .dataframe thead th {\n",
       "        text-align: right;\n",
       "    }\n",
       "</style>\n",
       "<table border=\"1\" class=\"dataframe\">\n",
       "  <thead>\n",
       "    <tr style=\"text-align: right;\">\n",
       "      <th></th>\n",
       "      <th>id</th>\n",
       "      <th>name</th>\n",
       "      <th>currency</th>\n",
       "      <th>main_category</th>\n",
       "      <th>sub_category</th>\n",
       "      <th>launched_at</th>\n",
       "      <th>deadline</th>\n",
       "      <th>duration</th>\n",
       "      <th>goal_usd</th>\n",
       "      <th>city</th>\n",
       "      <th>state</th>\n",
       "      <th>country</th>\n",
       "      <th>blurb_length</th>\n",
       "      <th>name_length</th>\n",
       "      <th>status</th>\n",
       "      <th>start_month</th>\n",
       "      <th>end_month</th>\n",
       "      <th>start_Q</th>\n",
       "      <th>end_Q</th>\n",
       "      <th>usd_pledged</th>\n",
       "    </tr>\n",
       "  </thead>\n",
       "  <tbody>\n",
       "    <tr>\n",
       "      <th>0</th>\n",
       "      <td>1687733153</td>\n",
       "      <td>Socks of Speed and Socks of Elvenkind</td>\n",
       "      <td>USD</td>\n",
       "      <td>games</td>\n",
       "      <td>Tabletop Games</td>\n",
       "      <td>2018-10-30 20:00:02</td>\n",
       "      <td>2018-11-15 17:59:00</td>\n",
       "      <td>16.0</td>\n",
       "      <td>2000.00000</td>\n",
       "      <td>Menasha</td>\n",
       "      <td>WI</td>\n",
       "      <td>US</td>\n",
       "      <td>14</td>\n",
       "      <td>7</td>\n",
       "      <td>successful</td>\n",
       "      <td>10</td>\n",
       "      <td>11</td>\n",
       "      <td>Q4</td>\n",
       "      <td>Q4</td>\n",
       "      <td>6061.00000</td>\n",
       "    </tr>\n",
       "    <tr>\n",
       "      <th>1</th>\n",
       "      <td>227936657</td>\n",
       "      <td>Power Punch Boot Camp: An All-Ages Graphic Novel</td>\n",
       "      <td>GBP</td>\n",
       "      <td>comics</td>\n",
       "      <td>Comic Books</td>\n",
       "      <td>2018-08-06 10:00:43</td>\n",
       "      <td>2018-09-05 10:00:43</td>\n",
       "      <td>30.0</td>\n",
       "      <td>3870.99771</td>\n",
       "      <td>Shepperton</td>\n",
       "      <td>England</td>\n",
       "      <td>GB</td>\n",
       "      <td>24</td>\n",
       "      <td>8</td>\n",
       "      <td>successful</td>\n",
       "      <td>8</td>\n",
       "      <td>9</td>\n",
       "      <td>Q3</td>\n",
       "      <td>Q3</td>\n",
       "      <td>3914.50512</td>\n",
       "    </tr>\n",
       "    <tr>\n",
       "      <th>2</th>\n",
       "      <td>454186436</td>\n",
       "      <td>Live Printing with SX8: \"Squeegee Pulp Up\"</td>\n",
       "      <td>USD</td>\n",
       "      <td>fashion</td>\n",
       "      <td>Apparel</td>\n",
       "      <td>2017-06-09 15:41:03</td>\n",
       "      <td>2017-07-09 15:41:03</td>\n",
       "      <td>30.0</td>\n",
       "      <td>1100.00000</td>\n",
       "      <td>Manhattan</td>\n",
       "      <td>NY</td>\n",
       "      <td>US</td>\n",
       "      <td>21</td>\n",
       "      <td>7</td>\n",
       "      <td>successful</td>\n",
       "      <td>6</td>\n",
       "      <td>7</td>\n",
       "      <td>Q2</td>\n",
       "      <td>Q3</td>\n",
       "      <td>1110.00000</td>\n",
       "    </tr>\n",
       "    <tr>\n",
       "      <th>3</th>\n",
       "      <td>629469071</td>\n",
       "      <td>Lost Dog Street Band's Next Album</td>\n",
       "      <td>USD</td>\n",
       "      <td>music</td>\n",
       "      <td>Country &amp; Folk</td>\n",
       "      <td>2014-09-25 18:46:01</td>\n",
       "      <td>2014-11-10 06:00:00</td>\n",
       "      <td>45.0</td>\n",
       "      <td>3500.00000</td>\n",
       "      <td>Nashville</td>\n",
       "      <td>TN</td>\n",
       "      <td>US</td>\n",
       "      <td>15</td>\n",
       "      <td>6</td>\n",
       "      <td>successful</td>\n",
       "      <td>9</td>\n",
       "      <td>11</td>\n",
       "      <td>Q3</td>\n",
       "      <td>Q4</td>\n",
       "      <td>4807.00000</td>\n",
       "    </tr>\n",
       "    <tr>\n",
       "      <th>4</th>\n",
       "      <td>183973060</td>\n",
       "      <td>Qto-X, a Tiny Lantern</td>\n",
       "      <td>USD</td>\n",
       "      <td>technology</td>\n",
       "      <td>Gadgets</td>\n",
       "      <td>2016-11-28 16:35:11</td>\n",
       "      <td>2017-01-27 16:35:11</td>\n",
       "      <td>60.0</td>\n",
       "      <td>30000.00000</td>\n",
       "      <td>Troy</td>\n",
       "      <td>MI</td>\n",
       "      <td>US</td>\n",
       "      <td>15</td>\n",
       "      <td>4</td>\n",
       "      <td>successful</td>\n",
       "      <td>11</td>\n",
       "      <td>1</td>\n",
       "      <td>Q4</td>\n",
       "      <td>Q1</td>\n",
       "      <td>40368.00000</td>\n",
       "    </tr>\n",
       "  </tbody>\n",
       "</table>\n",
       "</div>"
      ],
      "text/plain": [
       "           id                                              name currency  \\\n",
       "0  1687733153             Socks of Speed and Socks of Elvenkind      USD   \n",
       "1   227936657  Power Punch Boot Camp: An All-Ages Graphic Novel      GBP   \n",
       "2   454186436        Live Printing with SX8: \"Squeegee Pulp Up\"      USD   \n",
       "3   629469071                 Lost Dog Street Band's Next Album      USD   \n",
       "4   183973060                             Qto-X, a Tiny Lantern      USD   \n",
       "\n",
       "  main_category    sub_category          launched_at             deadline  \\\n",
       "0         games  Tabletop Games  2018-10-30 20:00:02  2018-11-15 17:59:00   \n",
       "1        comics     Comic Books  2018-08-06 10:00:43  2018-09-05 10:00:43   \n",
       "2       fashion         Apparel  2017-06-09 15:41:03  2017-07-09 15:41:03   \n",
       "3         music  Country & Folk  2014-09-25 18:46:01  2014-11-10 06:00:00   \n",
       "4    technology         Gadgets  2016-11-28 16:35:11  2017-01-27 16:35:11   \n",
       "\n",
       "   duration     goal_usd        city    state country  blurb_length  \\\n",
       "0      16.0   2000.00000     Menasha       WI      US            14   \n",
       "1      30.0   3870.99771  Shepperton  England      GB            24   \n",
       "2      30.0   1100.00000   Manhattan       NY      US            21   \n",
       "3      45.0   3500.00000   Nashville       TN      US            15   \n",
       "4      60.0  30000.00000        Troy       MI      US            15   \n",
       "\n",
       "   name_length      status  start_month  end_month start_Q end_Q  usd_pledged  \n",
       "0            7  successful           10         11      Q4    Q4   6061.00000  \n",
       "1            8  successful            8          9      Q3    Q3   3914.50512  \n",
       "2            7  successful            6          7      Q2    Q3   1110.00000  \n",
       "3            6  successful            9         11      Q3    Q4   4807.00000  \n",
       "4            4  successful           11          1      Q4    Q1  40368.00000  "
      ]
     },
     "execution_count": 3,
     "metadata": {},
     "output_type": "execute_result"
    }
   ],
   "source": [
    "# viewing the first rows of the dataframe\n",
    "df_kickstarters.head()"
   ]
  },
  {
   "cell_type": "markdown",
   "metadata": {},
   "source": [
    "# Data Cleaning"
   ]
  },
  {
   "cell_type": "markdown",
   "metadata": {},
   "source": [
    "We will first take the subset of US-based kickstarters only, since other countries may have different opinions on the kinds of projects they like and that could introduce confounding variations in our analysis. So we'll use country as a control and drop projects that are not US-based."
   ]
  },
  {
   "cell_type": "code",
   "execution_count": 4,
   "metadata": {},
   "outputs": [],
   "source": [
    "df_kickstarters = df_kickstarters[df_kickstarters['country']=='US']"
   ]
  },
  {
   "cell_type": "markdown",
   "metadata": {},
   "source": [
    "We checked to see that the country and the currency are both US-only after the drop."
   ]
  },
  {
   "cell_type": "code",
   "execution_count": 5,
   "metadata": {},
   "outputs": [
    {
     "data": {
      "text/plain": [
       "array(['US'], dtype=object)"
      ]
     },
     "execution_count": 5,
     "metadata": {},
     "output_type": "execute_result"
    }
   ],
   "source": [
    "df_kickstarters.country.unique()"
   ]
  },
  {
   "cell_type": "code",
   "execution_count": 6,
   "metadata": {},
   "outputs": [
    {
     "data": {
      "text/plain": [
       "array(['USD'], dtype=object)"
      ]
     },
     "execution_count": 6,
     "metadata": {},
     "output_type": "execute_result"
    }
   ],
   "source": [
    "df_kickstarters.currency.unique()"
   ]
  },
  {
   "cell_type": "markdown",
   "metadata": {},
   "source": [
    "We then checked to see if any cell has null values, and if so to drop those entries."
   ]
  },
  {
   "cell_type": "code",
   "execution_count": 7,
   "metadata": {
    "scrolled": true
   },
   "outputs": [
    {
     "data": {
      "text/html": [
       "<div>\n",
       "<style scoped>\n",
       "    .dataframe tbody tr th:only-of-type {\n",
       "        vertical-align: middle;\n",
       "    }\n",
       "\n",
       "    .dataframe tbody tr th {\n",
       "        vertical-align: top;\n",
       "    }\n",
       "\n",
       "    .dataframe thead th {\n",
       "        text-align: right;\n",
       "    }\n",
       "</style>\n",
       "<table border=\"1\" class=\"dataframe\">\n",
       "  <thead>\n",
       "    <tr style=\"text-align: right;\">\n",
       "      <th></th>\n",
       "      <th>id</th>\n",
       "      <th>name</th>\n",
       "      <th>currency</th>\n",
       "      <th>main_category</th>\n",
       "      <th>sub_category</th>\n",
       "      <th>launched_at</th>\n",
       "      <th>deadline</th>\n",
       "      <th>duration</th>\n",
       "      <th>goal_usd</th>\n",
       "      <th>city</th>\n",
       "      <th>state</th>\n",
       "      <th>country</th>\n",
       "      <th>blurb_length</th>\n",
       "      <th>name_length</th>\n",
       "      <th>status</th>\n",
       "      <th>start_month</th>\n",
       "      <th>end_month</th>\n",
       "      <th>start_Q</th>\n",
       "      <th>end_Q</th>\n",
       "      <th>usd_pledged</th>\n",
       "    </tr>\n",
       "  </thead>\n",
       "  <tbody>\n",
       "  </tbody>\n",
       "</table>\n",
       "</div>"
      ],
      "text/plain": [
       "Empty DataFrame\n",
       "Columns: [id, name, currency, main_category, sub_category, launched_at, deadline, duration, goal_usd, city, state, country, blurb_length, name_length, status, start_month, end_month, start_Q, end_Q, usd_pledged]\n",
       "Index: []"
      ]
     },
     "execution_count": 7,
     "metadata": {},
     "output_type": "execute_result"
    }
   ],
   "source": [
    "df_kickstarters[df_kickstarters.isnull().any(axis=1)]"
   ]
  },
  {
   "cell_type": "markdown",
   "metadata": {},
   "source": [
    "We found no null values in the dataset, and so we proceeded with data cleaning."
   ]
  },
  {
   "cell_type": "markdown",
   "metadata": {},
   "source": [
    "We first dropped the column 'id' since it gives no useful information, just an ID associated with the project. We then dropped columns 'start_month' and 'end_month' since the information about the start and end months of the projects are already given in the dates in the 'launched_at' and 'deadline' columns and so is redundant. We checked to see that the country and currency are all US-based, so it would not be necessary to keep those columns."
   ]
  },
  {
   "cell_type": "code",
   "execution_count": 8,
   "metadata": {},
   "outputs": [],
   "source": [
    "df_kickstarters.drop(columns=['id', 'country', 'currency'], inplace=True)"
   ]
  },
  {
   "cell_type": "markdown",
   "metadata": {},
   "source": [
    "Finally, we noticed some of the monetary amounts have more than 2 decimal places, which should be cleaned up since we don't work with monetary amounts more specific than 2 decimal places. So we decided to round the amounts to 2 decimal places."
   ]
  },
  {
   "cell_type": "code",
   "execution_count": 9,
   "metadata": {},
   "outputs": [],
   "source": [
    "df_kickstarters['goal_usd'] = df_kickstarters['goal_usd'].round(2)\n",
    "df_kickstarters['usd_pledged'] = df_kickstarters['usd_pledged'].round(2)"
   ]
  },
  {
   "cell_type": "markdown",
   "metadata": {},
   "source": [
    "# Data Analysis & Results"
   ]
  },
  {
   "cell_type": "markdown",
   "metadata": {},
   "source": [
    "Since our project aims to analyze which factor is most important for the success of kickstarters, we will divide the dataframe into two separate ones, one with all the successful projects and one with all the failed projects."
   ]
  },
  {
   "cell_type": "code",
   "execution_count": 10,
   "metadata": {},
   "outputs": [],
   "source": [
    "# divides df_kickstarters into successful and failed ones\n",
    "df_successful = df_kickstarters[df_kickstarters['status']=='successful']\n",
    "df_failed = df_kickstarters[df_kickstarters['status']=='failed']"
   ]
  },
  {
   "cell_type": "code",
   "execution_count": 11,
   "metadata": {},
   "outputs": [
    {
     "name": "stdout",
     "output_type": "stream",
     "text": [
      "Number of successful kickstarters: 85473\n",
      "Number of failed kickstarters: 52372\n"
     ]
    }
   ],
   "source": [
    "# views number of successful and failed kickstarters\n",
    "print(\"Number of successful kickstarters: \" + str(len(df_successful))); print(\"Number of failed kickstarters: \" + str(len(df_failed)))"
   ]
  },
  {
   "cell_type": "markdown",
   "metadata": {},
   "source": [
    "It seems that there are different numbers of successful and failed kickstarters; we will account for that by comparing the ratio of each category in the successful versus failed kickstarters."
   ]
  },
  {
   "cell_type": "code",
   "execution_count": 12,
   "metadata": {
    "scrolled": false
   },
   "outputs": [
    {
     "data": {
      "text/plain": [
       "<matplotlib.legend.Legend at 0x1acf9078c88>"
      ]
     },
     "execution_count": 12,
     "metadata": {},
     "output_type": "execute_result"
    },
    {
     "data": {
      "image/png": "[encoded data removed]",
      "text/plain": [
       "<Figure size 1440x360 with 1 Axes>"
      ]
     },
     "metadata": {},
     "output_type": "display_data"
    }
   ],
   "source": [
    "df_categories = df_kickstarters.groupby(['status','main_category'])['status'].count().unstack('main_category').fillna(0)\n",
    "sub_df_categories = np.transpose(df_categories.div(df_categories.sum()))\n",
    "sub_df_categories.plot(kind='bar',stacked=True,rot=0, figsize=(20,5))\n",
    "\n",
    "plt.legend(('failed','successful'), loc='center left', bbox_to_anchor=(1.0, 0.5))"
   ]
  },
  {
   "cell_type": "markdown",
   "metadata": {},
   "source": [
    "Upon these initial visualization of data, we can see that comics, dance, and music seem to have the highest success rates while food, journalism, and technology seem to not do that well."
   ]
  },
  {
   "cell_type": "markdown",
   "metadata": {},
   "source": [
    "For the next part of our analysis, we will try to search for differences between successful/failed kickstarters to help distinguish what attributes the successful starters had that the failed didn't."
   ]
  },
  {
   "cell_type": "markdown",
   "metadata": {},
   "source": [
    "Sub categories and main categories may provide similar information; we will check how many unique main categories and sub categories there are."
   ]
  },
  {
   "cell_type": "code",
   "execution_count": 13,
   "metadata": {
    "scrolled": true
   },
   "outputs": [
    {
     "data": {
      "text/plain": [
       "159"
      ]
     },
     "execution_count": 13,
     "metadata": {},
     "output_type": "execute_result"
    }
   ],
   "source": [
    "len(df_kickstarters['sub_category'].unique())"
   ]
  },
  {
   "cell_type": "code",
   "execution_count": 14,
   "metadata": {
    "scrolled": true
   },
   "outputs": [
    {
     "data": {
      "text/plain": [
       "15"
      ]
     },
     "execution_count": 14,
     "metadata": {},
     "output_type": "execute_result"
    }
   ],
   "source": [
    "len(df_kickstarters['main_category'].unique())"
   ]
  },
  {
   "cell_type": "markdown",
   "metadata": {},
   "source": [
    "We will drop some more columns:\n",
    "- For data on start/end dates of projects, we agreed that observing trends at the month level is best, so we will drop the more specific dates in \"launched_at\" and \"deadline\" columns. In addition, some of the columns have redundancy with regards to project funding start and end date. Start and end month is the most balanced.\n",
    "- The names of the Kickstarters are difficult to quantify and analyze sentiment with nltk as they often contain catchy phrases or made-up words to try to catch consumers' attention, so we will drop the \"name\" column as well.\n",
    "- Finally, as shown above, there are 159 sub categories which is a bit excessive to analyze; but there are only 15 main categories which is good for analysis. So we will drop the sub categories."
   ]
  },
  {
   "cell_type": "code",
   "execution_count": 15,
   "metadata": {},
   "outputs": [],
   "source": [
    "df_kickstarters.drop(columns=['launched_at', 'deadline', 'name', 'sub_category'], inplace=True)"
   ]
  },
  {
   "cell_type": "markdown",
   "metadata": {},
   "source": [
    "Next, we will create a function that will change our status (successful, failed) column into binary variables, with 1.0 being successful and 0.0 being failed. We believe that doing this will make data analysis a little faster."
   ]
  },
  {
   "cell_type": "code",
   "execution_count": 16,
   "metadata": {},
   "outputs": [],
   "source": [
    "def convert_status(label):\n",
    "    if label == \"successful\":\n",
    "        return float(1.0)\n",
    "    else:\n",
    "        return float(0.0)"
   ]
  },
  {
   "cell_type": "code",
   "execution_count": 17,
   "metadata": {},
   "outputs": [],
   "source": [
    "df_kickstarters['status'] = df_kickstarters['status'].apply(convert_status)"
   ]
  },
  {
   "cell_type": "code",
   "execution_count": 18,
   "metadata": {},
   "outputs": [
    {
     "data": {
      "text/html": [
       "<div>\n",
       "<style scoped>\n",
       "    .dataframe tbody tr th:only-of-type {\n",
       "        vertical-align: middle;\n",
       "    }\n",
       "\n",
       "    .dataframe tbody tr th {\n",
       "        vertical-align: top;\n",
       "    }\n",
       "\n",
       "    .dataframe thead th {\n",
       "        text-align: right;\n",
       "    }\n",
       "</style>\n",
       "<table border=\"1\" class=\"dataframe\">\n",
       "  <thead>\n",
       "    <tr style=\"text-align: right;\">\n",
       "      <th></th>\n",
       "      <th>main_category</th>\n",
       "      <th>duration</th>\n",
       "      <th>goal_usd</th>\n",
       "      <th>city</th>\n",
       "      <th>state</th>\n",
       "      <th>blurb_length</th>\n",
       "      <th>name_length</th>\n",
       "      <th>status</th>\n",
       "      <th>start_month</th>\n",
       "      <th>end_month</th>\n",
       "      <th>start_Q</th>\n",
       "      <th>end_Q</th>\n",
       "      <th>usd_pledged</th>\n",
       "    </tr>\n",
       "  </thead>\n",
       "  <tbody>\n",
       "    <tr>\n",
       "      <th>0</th>\n",
       "      <td>games</td>\n",
       "      <td>16.0</td>\n",
       "      <td>2000.0</td>\n",
       "      <td>Menasha</td>\n",
       "      <td>WI</td>\n",
       "      <td>14</td>\n",
       "      <td>7</td>\n",
       "      <td>1.0</td>\n",
       "      <td>10</td>\n",
       "      <td>11</td>\n",
       "      <td>Q4</td>\n",
       "      <td>Q4</td>\n",
       "      <td>6061.0</td>\n",
       "    </tr>\n",
       "    <tr>\n",
       "      <th>2</th>\n",
       "      <td>fashion</td>\n",
       "      <td>30.0</td>\n",
       "      <td>1100.0</td>\n",
       "      <td>Manhattan</td>\n",
       "      <td>NY</td>\n",
       "      <td>21</td>\n",
       "      <td>7</td>\n",
       "      <td>1.0</td>\n",
       "      <td>6</td>\n",
       "      <td>7</td>\n",
       "      <td>Q2</td>\n",
       "      <td>Q3</td>\n",
       "      <td>1110.0</td>\n",
       "    </tr>\n",
       "    <tr>\n",
       "      <th>3</th>\n",
       "      <td>music</td>\n",
       "      <td>45.0</td>\n",
       "      <td>3500.0</td>\n",
       "      <td>Nashville</td>\n",
       "      <td>TN</td>\n",
       "      <td>15</td>\n",
       "      <td>6</td>\n",
       "      <td>1.0</td>\n",
       "      <td>9</td>\n",
       "      <td>11</td>\n",
       "      <td>Q3</td>\n",
       "      <td>Q4</td>\n",
       "      <td>4807.0</td>\n",
       "    </tr>\n",
       "    <tr>\n",
       "      <th>4</th>\n",
       "      <td>technology</td>\n",
       "      <td>60.0</td>\n",
       "      <td>30000.0</td>\n",
       "      <td>Troy</td>\n",
       "      <td>MI</td>\n",
       "      <td>15</td>\n",
       "      <td>4</td>\n",
       "      <td>1.0</td>\n",
       "      <td>11</td>\n",
       "      <td>1</td>\n",
       "      <td>Q4</td>\n",
       "      <td>Q1</td>\n",
       "      <td>40368.0</td>\n",
       "    </tr>\n",
       "    <tr>\n",
       "      <th>5</th>\n",
       "      <td>music</td>\n",
       "      <td>30.0</td>\n",
       "      <td>7500.0</td>\n",
       "      <td>Seattle</td>\n",
       "      <td>WA</td>\n",
       "      <td>11</td>\n",
       "      <td>4</td>\n",
       "      <td>1.0</td>\n",
       "      <td>1</td>\n",
       "      <td>2</td>\n",
       "      <td>Q1</td>\n",
       "      <td>Q1</td>\n",
       "      <td>7770.0</td>\n",
       "    </tr>\n",
       "  </tbody>\n",
       "</table>\n",
       "</div>"
      ],
      "text/plain": [
       "  main_category  duration  goal_usd       city state  blurb_length  \\\n",
       "0         games      16.0    2000.0    Menasha    WI            14   \n",
       "2       fashion      30.0    1100.0  Manhattan    NY            21   \n",
       "3         music      45.0    3500.0  Nashville    TN            15   \n",
       "4    technology      60.0   30000.0       Troy    MI            15   \n",
       "5         music      30.0    7500.0    Seattle    WA            11   \n",
       "\n",
       "   name_length  status  start_month  end_month start_Q end_Q  usd_pledged  \n",
       "0            7     1.0           10         11      Q4    Q4       6061.0  \n",
       "2            7     1.0            6          7      Q2    Q3       1110.0  \n",
       "3            6     1.0            9         11      Q3    Q4       4807.0  \n",
       "4            4     1.0           11          1      Q4    Q1      40368.0  \n",
       "5            4     1.0            1          2      Q1    Q1       7770.0  "
      ]
     },
     "execution_count": 18,
     "metadata": {},
     "output_type": "execute_result"
    }
   ],
   "source": [
    "df_kickstarters.head()"
   ]
  },
  {
   "cell_type": "code",
   "execution_count": 28,
   "metadata": {
    "scrolled": true
   },
   "outputs": [
    {
     "data": {
      "text/html": [
       "<div>\n",
       "<style scoped>\n",
       "    .dataframe tbody tr th:only-of-type {\n",
       "        vertical-align: middle;\n",
       "    }\n",
       "\n",
       "    .dataframe tbody tr th {\n",
       "        vertical-align: top;\n",
       "    }\n",
       "\n",
       "    .dataframe thead th {\n",
       "        text-align: right;\n",
       "    }\n",
       "</style>\n",
       "<table border=\"1\" class=\"dataframe\">\n",
       "  <thead>\n",
       "    <tr style=\"text-align: right;\">\n",
       "      <th></th>\n",
       "      <th>main_category</th>\n",
       "      <th>duration</th>\n",
       "      <th>goal_usd</th>\n",
       "      <th>city</th>\n",
       "      <th>state</th>\n",
       "      <th>blurb_length</th>\n",
       "      <th>name_length</th>\n",
       "      <th>status</th>\n",
       "      <th>start_month</th>\n",
       "      <th>end_month</th>\n",
       "      <th>start_Q</th>\n",
       "      <th>end_Q</th>\n",
       "      <th>usd_pledged</th>\n",
       "    </tr>\n",
       "  </thead>\n",
       "  <tbody>\n",
       "    <tr>\n",
       "      <th>0</th>\n",
       "      <td>games</td>\n",
       "      <td>16.0</td>\n",
       "      <td>2000.0</td>\n",
       "      <td>Menasha</td>\n",
       "      <td>WI</td>\n",
       "      <td>14</td>\n",
       "      <td>7</td>\n",
       "      <td>0.0</td>\n",
       "      <td>10</td>\n",
       "      <td>11</td>\n",
       "      <td>Q4</td>\n",
       "      <td>Q4</td>\n",
       "      <td>6061.0</td>\n",
       "    </tr>\n",
       "    <tr>\n",
       "      <th>2</th>\n",
       "      <td>fashion</td>\n",
       "      <td>30.0</td>\n",
       "      <td>1100.0</td>\n",
       "      <td>Manhattan</td>\n",
       "      <td>NY</td>\n",
       "      <td>21</td>\n",
       "      <td>7</td>\n",
       "      <td>0.0</td>\n",
       "      <td>6</td>\n",
       "      <td>7</td>\n",
       "      <td>Q2</td>\n",
       "      <td>Q3</td>\n",
       "      <td>1110.0</td>\n",
       "    </tr>\n",
       "    <tr>\n",
       "      <th>3</th>\n",
       "      <td>music</td>\n",
       "      <td>45.0</td>\n",
       "      <td>3500.0</td>\n",
       "      <td>Nashville</td>\n",
       "      <td>TN</td>\n",
       "      <td>15</td>\n",
       "      <td>6</td>\n",
       "      <td>0.0</td>\n",
       "      <td>9</td>\n",
       "      <td>11</td>\n",
       "      <td>Q3</td>\n",
       "      <td>Q4</td>\n",
       "      <td>4807.0</td>\n",
       "    </tr>\n",
       "    <tr>\n",
       "      <th>4</th>\n",
       "      <td>technology</td>\n",
       "      <td>60.0</td>\n",
       "      <td>30000.0</td>\n",
       "      <td>Troy</td>\n",
       "      <td>MI</td>\n",
       "      <td>15</td>\n",
       "      <td>4</td>\n",
       "      <td>0.0</td>\n",
       "      <td>11</td>\n",
       "      <td>1</td>\n",
       "      <td>Q4</td>\n",
       "      <td>Q1</td>\n",
       "      <td>40368.0</td>\n",
       "    </tr>\n",
       "    <tr>\n",
       "      <th>5</th>\n",
       "      <td>music</td>\n",
       "      <td>30.0</td>\n",
       "      <td>7500.0</td>\n",
       "      <td>Seattle</td>\n",
       "      <td>WA</td>\n",
       "      <td>11</td>\n",
       "      <td>4</td>\n",
       "      <td>0.0</td>\n",
       "      <td>1</td>\n",
       "      <td>2</td>\n",
       "      <td>Q1</td>\n",
       "      <td>Q1</td>\n",
       "      <td>7770.0</td>\n",
       "    </tr>\n",
       "  </tbody>\n",
       "</table>\n",
       "</div>"
      ],
      "text/plain": [
       "  main_category  duration  goal_usd       city state  blurb_length  \\\n",
       "0         games      16.0    2000.0    Menasha    WI            14   \n",
       "2       fashion      30.0    1100.0  Manhattan    NY            21   \n",
       "3         music      45.0    3500.0  Nashville    TN            15   \n",
       "4    technology      60.0   30000.0       Troy    MI            15   \n",
       "5         music      30.0    7500.0    Seattle    WA            11   \n",
       "\n",
       "   name_length  status  start_month  end_month start_Q end_Q  usd_pledged  \n",
       "0            7     0.0           10         11      Q4    Q4       6061.0  \n",
       "2            7     0.0            6          7      Q2    Q3       1110.0  \n",
       "3            6     0.0            9         11      Q3    Q4       4807.0  \n",
       "4            4     0.0           11          1      Q4    Q1      40368.0  \n",
       "5            4     0.0            1          2      Q1    Q1       7770.0  "
      ]
     },
     "execution_count": 28,
     "metadata": {},
     "output_type": "execute_result"
    }
   ],
   "source": [
    "\"\"\"\n",
    "for rowIdx, row in df_kickstarters.iterrows():\n",
    "    df_kickstarters.at[rowIdx, 'status'] = convert_status(df_kickstarters.at[rowIdx, 'status'])\n",
    "\n",
    "\n",
    "df = df_kickstarters\n",
    "df_kickstarters.head()\n",
    "\"\"\"\n"
   ]
  },
  {
   "cell_type": "markdown",
   "metadata": {},
   "source": [
    "Next, we will analyze the means of failed and successful kickstarts for the quantitative variables (duration, goal, blurb length, name length, start and end months, and money pledged) using the groupby function."
   ]
  },
  {
   "cell_type": "code",
   "execution_count": 19,
   "metadata": {
    "scrolled": true
   },
   "outputs": [
    {
     "data": {
      "text/html": [
       "<div>\n",
       "<style scoped>\n",
       "    .dataframe tbody tr th:only-of-type {\n",
       "        vertical-align: middle;\n",
       "    }\n",
       "\n",
       "    .dataframe tbody tr th {\n",
       "        vertical-align: top;\n",
       "    }\n",
       "\n",
       "    .dataframe thead th {\n",
       "        text-align: right;\n",
       "    }\n",
       "</style>\n",
       "<table border=\"1\" class=\"dataframe\">\n",
       "  <thead>\n",
       "    <tr style=\"text-align: right;\">\n",
       "      <th></th>\n",
       "      <th>duration</th>\n",
       "      <th>goal_usd</th>\n",
       "      <th>blurb_length</th>\n",
       "      <th>name_length</th>\n",
       "      <th>start_month</th>\n",
       "      <th>end_month</th>\n",
       "      <th>usd_pledged</th>\n",
       "    </tr>\n",
       "    <tr>\n",
       "      <th>status</th>\n",
       "      <th></th>\n",
       "      <th></th>\n",
       "      <th></th>\n",
       "      <th></th>\n",
       "      <th></th>\n",
       "      <th></th>\n",
       "      <th></th>\n",
       "    </tr>\n",
       "  </thead>\n",
       "  <tbody>\n",
       "    <tr>\n",
       "      <th>0.0</th>\n",
       "      <td>34.598736</td>\n",
       "      <td>81172.833547</td>\n",
       "      <td>19.240644</td>\n",
       "      <td>5.261437</td>\n",
       "      <td>6.443825</td>\n",
       "      <td>6.716070</td>\n",
       "      <td>1098.673905</td>\n",
       "    </tr>\n",
       "    <tr>\n",
       "      <th>1.0</th>\n",
       "      <td>30.915704</td>\n",
       "      <td>9705.294895</td>\n",
       "      <td>18.858844</td>\n",
       "      <td>6.083091</td>\n",
       "      <td>6.470102</td>\n",
       "      <td>6.796029</td>\n",
       "      <td>23220.282753</td>\n",
       "    </tr>\n",
       "  </tbody>\n",
       "</table>\n",
       "</div>"
      ],
      "text/plain": [
       "         duration      goal_usd  blurb_length  name_length  start_month  \\\n",
       "status                                                                    \n",
       "0.0     34.598736  81172.833547     19.240644     5.261437     6.443825   \n",
       "1.0     30.915704   9705.294895     18.858844     6.083091     6.470102   \n",
       "\n",
       "        end_month   usd_pledged  \n",
       "status                           \n",
       "0.0      6.716070   1098.673905  \n",
       "1.0      6.796029  23220.282753  "
      ]
     },
     "execution_count": 19,
     "metadata": {},
     "output_type": "execute_result"
    }
   ],
   "source": [
    "#sns.countplot(x='status', data=df_kickstarters, palette='hls')\n",
    "#plt.show()\n",
    "#plt.savefig('count_plot')\n",
    "df_grouped = df_kickstarters.groupby('status').mean()\n",
    "df_grouped"
   ]
  },
  {
   "cell_type": "markdown",
   "metadata": {},
   "source": [
    "From this we get some key observations:\n",
    "- We see clearly that the goals of failed kickstarters were set exponentially higher than their successful counterparts.\n",
    "\n",
    "- There isn't any discerinble difference between start and end times, and blurb length.\n",
    "\n",
    "- Successful kickstarters had shorter durations\n",
    "\n",
    "- Obviously the successful kickstarters had a much higher pledge\n"
   ]
  },
  {
   "cell_type": "markdown",
   "metadata": {},
   "source": [
    "Let's take a further look into the differences in goal_usd between successful and failed"
   ]
  },
  {
   "cell_type": "code",
   "execution_count": 22,
   "metadata": {},
   "outputs": [
    {
     "data": {
      "text/plain": [
       "Text(0.5,0,'Status')"
      ]
     },
     "execution_count": 22,
     "metadata": {},
     "output_type": "execute_result"
    },
    {
     "data": {
      "image/png": "[encoded data removed]",
      "text/plain": [
       "<Figure size 720x360 with 1 Axes>"
      ]
     },
     "metadata": {},
     "output_type": "display_data"
    }
   ],
   "source": [
    "#df.groupby('main_category').mean()\n",
    "#pd.crosstab(df.start_month, df.status).plot(kind='bar', figsize=(15,5))\n",
    "#pd.crosstab(df.end_month, df.status).plot(kind='bar', figsize=(15,5))\n",
    "#pd.crosstab(df.status, df.start_month).plot(kind='bar', figsize=(15,5))\n",
    "#pd.crosstab(df.start_Q, df.status).plot(kind='bar', figsize=(15, 5))\n",
    "#pd.crosstab(df.end_Q, df.status).plot(kind='bar', figsize=(15, 5))\n",
    "\n",
    "my_colors = list(['r', 'b'])\n",
    "df_grouped.goal_usd.plot.bar(stacked=True, color=my_colors, figsize=(10,5))\n",
    "plt.title('Mean of USD Goal for Successful/Failed', fontsize=30)\n",
    "plt.ylabel('Total USD', fontsize=18)\n",
    "plt.xlabel('Status', fontsize=18)"
   ]
  },
  {
   "cell_type": "code",
   "execution_count": 23,
   "metadata": {},
   "outputs": [
    {
     "name": "stdout",
     "output_type": "stream",
     "text": [
      "Compared to the successful kickstarters, the failed kickstarters had an increase of 736.38%\n",
      "in there USD goal amount\n"
     ]
    }
   ],
   "source": [
    "fail = df_grouped.loc[0, 'goal_usd']\n",
    "success = df_grouped.loc[1, 'goal_usd']\n",
    "percent = ((fail - success) / success) * 100\n",
    "\n",
    "print(\"Compared to the successful kickstarters, the failed kickstarters had an increase of \" \n",
    "      \"{0:.2f}\".format(percent) + \"%\\nin there USD goal amount\")"
   ]
  },
  {
   "cell_type": "markdown",
   "metadata": {},
   "source": [
    "As we can see, a 736.38% increase in goal_usd for the failed kickstarters is a huge difference compared to the successful kickstarters.\n",
    "\n",
    "This clearly shows that part of what makes a successful kickstarter is likely setting a realistic goal for funding.  If people who are looking into kickstarters notice that you've set your goal for funding unreasonably high especially with respect to the details of your project, why would they waste time and effort into funding your kickstarter if they know your funding goal likely won't be met?  Perhaps it can also be an indicator that shows that you are naive to the business side of things, which can be seen as a red flag."
   ]
  },
  {
   "cell_type": "code",
   "execution_count": 25,
   "metadata": {},
   "outputs": [],
   "source": [
    "df_success = df_kickstarters[df_kickstarters['status'] == 1 ]\n",
    "df_fail = df_kickstarters[df_kickstarters['status'] == 0 ]\n",
    "\n",
    "                  #len(df.goal_usd.unique())"
   ]
  },
  {
   "cell_type": "code",
   "execution_count": 28,
   "metadata": {
    "scrolled": true
   },
   "outputs": [
    {
     "data": {
      "text/plain": [
       "<matplotlib.axes._subplots.AxesSubplot at 0x1ac84fd5588>"
      ]
     },
     "execution_count": 28,
     "metadata": {},
     "output_type": "execute_result"
    },
    {
     "data": {
      "image/png": "[encoded data removed]",
      "text/plain": [
       "<Figure size 432x288 with 1 Axes>"
      ]
     },
     "metadata": {},
     "output_type": "display_data"
    }
   ],
   "source": [
    "df_kickstarters.boxplot(column=['goal_usd'],by='status',showfliers=False)"
   ]
  },
  {
   "cell_type": "code",
   "execution_count": 26,
   "metadata": {},
   "outputs": [],
   "source": [
    "## YOUR CODE HERE\n",
    "## FEEL FREE TO ADD MULTIPLE CELLS PER SECTION"
   ]
  },
  {
   "cell_type": "markdown",
   "metadata": {},
   "source": [
    "# Ethics & Privacy"
   ]
  },
  {
   "cell_type": "markdown",
   "metadata": {},
   "source": [
    "We must decide if Kickstarter and crowdfunding should only be used to fund a project’s minimum requirements or whether these “above and beyond” moments of success should be allowed and celebrated, and we must also decide if Kickstarter’s essential nature is to allow unestablished artists and creators to find success or if people like Braff should be allowed  to use the service despite their previous success.\n",
    "\n",
    "Unique from other creators, Kickstarter creators have a preexisting obligation to their consumers to deliver a certain amount of quality, because many of their consumers will have already paid money and will have a certain expectation for what will be delivered. Does the artist’s vision suffer when they are encouraged to meet a certain expectation? If so, is it okay if their vision is changed to please  their backers, who funded the actual creation? Crowdsourcing offers an interesting dilemma, and begs the question: is the essential nature of creation to please consumers even if some artistic vision is lost, or is it to allow the artist absolute freedom in their creation?\n",
    "\n",
    "Considering using this dataset which is showing the results from each kickstarter projects, then it could be another ethical problem that we are using their information. Although this dataset does not consist of any information regarding to neither personal nor confidential, there is a way to track which project was successful by looking and analyzing all the information here; it could be a risk of revealing personal information as well."
   ]
  },
  {
   "cell_type": "markdown",
   "metadata": {},
   "source": [
    "# Conclusion & Discussion"
   ]
  },
  {
   "cell_type": "markdown",
   "metadata": {},
   "source": [
    "Which category/subcategory is the most successful/ the least according to the funding success result?\n",
    "“music”,”film & video”, and “publishing” have the most common for kickstarter projects’ main categories. Although these main categories are quite common, it does not mean that they have the highest rates of getting better successful rates. From the ratio chart, we found out that the most successful main categories were “dance”, “comics”, and “publishing”. \n",
    "\n",
    "Also, the plot graphing showed that the successful projects tend to have shorter  duration than failed ones, and the reasons we considered were because they analyzed their duration which their goals can be accomplished by the end of the duration they set, Also, it is showing that failed projects’ durations are distributed wider than the successful, therefore, we concluded that the most successful duration must be between about 28 and 32 days, according to the graph and our analysis"
   ]
  }
 ],
 "metadata": {
  "kernelspec": {
   "display_name": "Python 3",
   "language": "python",
   "name": "python3"
  },
  "language_info": {
   "codemirror_mode": {
    "name": "ipython",
    "version": 3
   },
   "file_extension": ".py",
   "mimetype": "text/x-python",
   "name": "python",
   "nbconvert_exporter": "python",
   "pygments_lexer": "ipython3",
   "version": "3.6.5"
  }
 },
 "nbformat": 4,
 "nbformat_minor": 2
}
